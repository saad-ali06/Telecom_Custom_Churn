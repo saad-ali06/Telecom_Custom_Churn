{
 "cells": [
  {
   "cell_type": "markdown",
   "metadata": {},
   "source": [
    "# Neural Network"
   ]
  },
  {
   "cell_type": "code",
   "execution_count": 20,
   "metadata": {},
   "outputs": [],
   "source": [
    "import numpy as np\n",
    "import pandas as pd\n",
    "import matplotlib.pyplot as plt\n",
    "from sklearn.model_selection import train_test_split"
   ]
  },
  {
   "cell_type": "markdown",
   "metadata": {},
   "source": [
    "# Loading Dataset "
   ]
  },
  {
   "cell_type": "code",
   "execution_count": 21,
   "metadata": {},
   "outputs": [],
   "source": [
    "df =pd.read_csv('prepared_dataset.csv')\n",
    "# This code is preparing the data for a machine learning model.\n",
    "y = df['Churn'].values\n",
    "X = df.drop(columns = ['Churn','Unnamed: 0'])"
   ]
  },
  {
   "cell_type": "markdown",
   "metadata": {},
   "source": [
    "## Spliting Data into Train Test Split."
   ]
  },
  {
   "cell_type": "code",
   "execution_count": 22,
   "metadata": {},
   "outputs": [],
   "source": [
    "# The line of code is splitting the dataset `X` and `y` into training and testing sets. The training set is stored in `X_train` and `y_train`, while the testing set is stored in `X_test` and `y_test`. The `test_size` parameter specifies the proportion of the dataset that should be allocated for testing (in this case, 20% of the data). The `random_state` parameter is used to ensure reproducibility of the split.\n",
    "X_train, X_test, y_train, y_test = train_test_split(X, y, test_size=0.2, random_state=101)"
   ]
  },
  {
   "cell_type": "code",
   "execution_count": 23,
   "metadata": {},
   "outputs": [],
   "source": [
    "import tensorflow as tf\n",
    "from sklearn.preprocessing import OneHotEncoder\n",
    "\n",
    "onehotenc = OneHotEncoder()\n",
    "y_one_hot = onehotenc.fit_transform(y.reshape(-1,1))\n",
    "\n",
    "# Assuming you have your data in variables X (features) and y (target variable):\n",
    "X_train, X_test, y_train, y_test = train_test_split(X, y, test_size=0.2, random_state=42)\n",
    "\n",
    "def create_model(layers, neurons, optimizer='adam'):\n",
    "    model = tf.keras.Sequential([\n",
    "        # Correct input layer creation (no parentheses around Input())\n",
    "        tf.keras.layers.Input(shape=(46,)),  # Match your input shape\n",
    "\n",
    "        # Hidden layers based on 'layers' and 'neurons'\n",
    "        *[tf.keras.layers.Dense(neurons, activation='relu') for _ in range(layers)],\n",
    "        *[tf.keras.layers.Dropout(0.5) for _ in range(layers)],\n",
    "\n",
    "        # Output layer with 7 units (adjust if needed)\n",
    "        tf.keras.layers.Dense(1, activation='sigmoid')\n",
    "    ])\n",
    "    model.compile(loss=\"binary_crossentropy\", optimizer=optimizer, metrics=[\"accuracy\"])\n",
    "    return model"
   ]
  },
  {
   "cell_type": "code",
   "execution_count": 24,
   "metadata": {},
   "outputs": [
    {
     "data": {
      "text/plain": [
       "(10048, 2)"
      ]
     },
     "execution_count": 24,
     "metadata": {},
     "output_type": "execute_result"
    }
   ],
   "source": [
    "y_one_hot.shape"
   ]
  },
  {
   "cell_type": "code",
   "execution_count": 25,
   "metadata": {},
   "outputs": [
    {
     "name": "stderr",
     "output_type": "stream",
     "text": [
      "C:\\Users\\786\\AppData\\Roaming\\Python\\Python311\\site-packages\\sklearn\\model_selection\\_search.py:318: UserWarning: The total space of parameters 9 is smaller than n_iter=10. Running 9 iterations. For exhaustive searches, use GridSearchCV.\n",
      "  warnings.warn(\n",
      "C:\\Users\\786\\AppData\\Roaming\\Python\\Python311\\site-packages\\scikeras\\wrappers.py:915: UserWarning: ``build_fn`` will be renamed to ``model`` in a future release, at which point use of ``build_fn`` will raise an Error instead.\n",
      "  X, y = self._initialize(X, y)\n"
     ]
    },
    {
     "name": "stdout",
     "output_type": "stream",
     "text": [
      "201/201 [==============================] - 1s 2ms/step - loss: 0.5754 - accuracy: 0.7014\n",
      "51/51 [==============================] - 0s 1ms/step\n"
     ]
    },
    {
     "name": "stderr",
     "output_type": "stream",
     "text": [
      "C:\\Users\\786\\AppData\\Roaming\\Python\\Python311\\site-packages\\scikeras\\wrappers.py:915: UserWarning: ``build_fn`` will be renamed to ``model`` in a future release, at which point use of ``build_fn`` will raise an Error instead.\n",
      "  X, y = self._initialize(X, y)\n"
     ]
    },
    {
     "name": "stdout",
     "output_type": "stream",
     "text": [
      "201/201 [==============================] - 1s 2ms/step - loss: 0.5718 - accuracy: 0.7061\n",
      "51/51 [==============================] - 0s 1ms/step\n"
     ]
    },
    {
     "name": "stderr",
     "output_type": "stream",
     "text": [
      "C:\\Users\\786\\AppData\\Roaming\\Python\\Python311\\site-packages\\scikeras\\wrappers.py:915: UserWarning: ``build_fn`` will be renamed to ``model`` in a future release, at which point use of ``build_fn`` will raise an Error instead.\n",
      "  X, y = self._initialize(X, y)\n"
     ]
    },
    {
     "name": "stdout",
     "output_type": "stream",
     "text": [
      "201/201 [==============================] - 1s 1ms/step - loss: 0.5699 - accuracy: 0.7028\n",
      "51/51 [==============================] - 0s 988us/step\n"
     ]
    },
    {
     "name": "stderr",
     "output_type": "stream",
     "text": [
      "C:\\Users\\786\\AppData\\Roaming\\Python\\Python311\\site-packages\\scikeras\\wrappers.py:915: UserWarning: ``build_fn`` will be renamed to ``model`` in a future release, at which point use of ``build_fn`` will raise an Error instead.\n",
      "  X, y = self._initialize(X, y)\n"
     ]
    },
    {
     "name": "stdout",
     "output_type": "stream",
     "text": [
      "201/201 [==============================] - 1s 1ms/step - loss: 0.5918 - accuracy: 0.6833\n",
      "51/51 [==============================] - 0s 960us/step\n"
     ]
    },
    {
     "name": "stderr",
     "output_type": "stream",
     "text": [
      "C:\\Users\\786\\AppData\\Roaming\\Python\\Python311\\site-packages\\scikeras\\wrappers.py:915: UserWarning: ``build_fn`` will be renamed to ``model`` in a future release, at which point use of ``build_fn`` will raise an Error instead.\n",
      "  X, y = self._initialize(X, y)\n"
     ]
    },
    {
     "name": "stdout",
     "output_type": "stream",
     "text": [
      "201/201 [==============================] - 1s 1ms/step - loss: 0.5829 - accuracy: 0.6954\n",
      "51/51 [==============================] - 0s 967us/step\n"
     ]
    },
    {
     "name": "stderr",
     "output_type": "stream",
     "text": [
      "C:\\Users\\786\\AppData\\Roaming\\Python\\Python311\\site-packages\\scikeras\\wrappers.py:915: UserWarning: ``build_fn`` will be renamed to ``model`` in a future release, at which point use of ``build_fn`` will raise an Error instead.\n",
      "  X, y = self._initialize(X, y)\n"
     ]
    },
    {
     "name": "stdout",
     "output_type": "stream",
     "text": [
      "201/201 [==============================] - 1s 1ms/step - loss: 0.5509 - accuracy: 0.7188\n",
      "51/51 [==============================] - 0s 999us/step\n"
     ]
    },
    {
     "name": "stderr",
     "output_type": "stream",
     "text": [
      "C:\\Users\\786\\AppData\\Roaming\\Python\\Python311\\site-packages\\scikeras\\wrappers.py:915: UserWarning: ``build_fn`` will be renamed to ``model`` in a future release, at which point use of ``build_fn`` will raise an Error instead.\n",
      "  X, y = self._initialize(X, y)\n"
     ]
    },
    {
     "name": "stdout",
     "output_type": "stream",
     "text": [
      "201/201 [==============================] - 1s 1ms/step - loss: 0.5441 - accuracy: 0.7306\n",
      "51/51 [==============================] - 0s 933us/step\n"
     ]
    },
    {
     "name": "stderr",
     "output_type": "stream",
     "text": [
      "C:\\Users\\786\\AppData\\Roaming\\Python\\Python311\\site-packages\\scikeras\\wrappers.py:915: UserWarning: ``build_fn`` will be renamed to ``model`` in a future release, at which point use of ``build_fn`` will raise an Error instead.\n",
      "  X, y = self._initialize(X, y)\n"
     ]
    },
    {
     "name": "stdout",
     "output_type": "stream",
     "text": [
      "201/201 [==============================] - 1s 1ms/step - loss: 0.5319 - accuracy: 0.7362\n",
      "51/51 [==============================] - 0s 956us/step\n"
     ]
    },
    {
     "name": "stderr",
     "output_type": "stream",
     "text": [
      "C:\\Users\\786\\AppData\\Roaming\\Python\\Python311\\site-packages\\scikeras\\wrappers.py:915: UserWarning: ``build_fn`` will be renamed to ``model`` in a future release, at which point use of ``build_fn`` will raise an Error instead.\n",
      "  X, y = self._initialize(X, y)\n"
     ]
    },
    {
     "name": "stdout",
     "output_type": "stream",
     "text": [
      "201/201 [==============================] - 1s 1ms/step - loss: 0.5567 - accuracy: 0.7167\n",
      "51/51 [==============================] - 0s 943us/step\n"
     ]
    },
    {
     "name": "stderr",
     "output_type": "stream",
     "text": [
      "C:\\Users\\786\\AppData\\Roaming\\Python\\Python311\\site-packages\\scikeras\\wrappers.py:915: UserWarning: ``build_fn`` will be renamed to ``model`` in a future release, at which point use of ``build_fn`` will raise an Error instead.\n",
      "  X, y = self._initialize(X, y)\n"
     ]
    },
    {
     "name": "stdout",
     "output_type": "stream",
     "text": [
      "201/201 [==============================] - 1s 2ms/step - loss: 0.5505 - accuracy: 0.7207\n",
      "51/51 [==============================] - 0s 940us/step\n"
     ]
    },
    {
     "name": "stderr",
     "output_type": "stream",
     "text": [
      "C:\\Users\\786\\AppData\\Roaming\\Python\\Python311\\site-packages\\scikeras\\wrappers.py:915: UserWarning: ``build_fn`` will be renamed to ``model`` in a future release, at which point use of ``build_fn`` will raise an Error instead.\n",
      "  X, y = self._initialize(X, y)\n"
     ]
    },
    {
     "name": "stdout",
     "output_type": "stream",
     "text": [
      "201/201 [==============================] - 1s 2ms/step - loss: 0.5167 - accuracy: 0.7434\n",
      "51/51 [==============================] - 0s 1ms/step\n"
     ]
    },
    {
     "name": "stderr",
     "output_type": "stream",
     "text": [
      "C:\\Users\\786\\AppData\\Roaming\\Python\\Python311\\site-packages\\scikeras\\wrappers.py:915: UserWarning: ``build_fn`` will be renamed to ``model`` in a future release, at which point use of ``build_fn`` will raise an Error instead.\n",
      "  X, y = self._initialize(X, y)\n"
     ]
    },
    {
     "name": "stdout",
     "output_type": "stream",
     "text": [
      "201/201 [==============================] - 1s 2ms/step - loss: 0.5260 - accuracy: 0.7406\n",
      "51/51 [==============================] - 0s 957us/step\n"
     ]
    },
    {
     "name": "stderr",
     "output_type": "stream",
     "text": [
      "C:\\Users\\786\\AppData\\Roaming\\Python\\Python311\\site-packages\\scikeras\\wrappers.py:915: UserWarning: ``build_fn`` will be renamed to ``model`` in a future release, at which point use of ``build_fn`` will raise an Error instead.\n",
      "  X, y = self._initialize(X, y)\n"
     ]
    },
    {
     "name": "stdout",
     "output_type": "stream",
     "text": [
      "201/201 [==============================] - 1s 2ms/step - loss: 0.5185 - accuracy: 0.7387\n",
      "51/51 [==============================] - 0s 932us/step\n"
     ]
    },
    {
     "name": "stderr",
     "output_type": "stream",
     "text": [
      "C:\\Users\\786\\AppData\\Roaming\\Python\\Python311\\site-packages\\scikeras\\wrappers.py:915: UserWarning: ``build_fn`` will be renamed to ``model`` in a future release, at which point use of ``build_fn`` will raise an Error instead.\n",
      "  X, y = self._initialize(X, y)\n"
     ]
    },
    {
     "name": "stdout",
     "output_type": "stream",
     "text": [
      "201/201 [==============================] - 1s 2ms/step - loss: 0.5149 - accuracy: 0.7433\n",
      "51/51 [==============================] - 0s 993us/step\n"
     ]
    },
    {
     "name": "stderr",
     "output_type": "stream",
     "text": [
      "C:\\Users\\786\\AppData\\Roaming\\Python\\Python311\\site-packages\\scikeras\\wrappers.py:915: UserWarning: ``build_fn`` will be renamed to ``model`` in a future release, at which point use of ``build_fn`` will raise an Error instead.\n",
      "  X, y = self._initialize(X, y)\n"
     ]
    },
    {
     "name": "stdout",
     "output_type": "stream",
     "text": [
      "201/201 [==============================] - 1s 2ms/step - loss: 0.5190 - accuracy: 0.7518\n",
      "51/51 [==============================] - 0s 1ms/step\n"
     ]
    },
    {
     "name": "stderr",
     "output_type": "stream",
     "text": [
      "C:\\Users\\786\\AppData\\Roaming\\Python\\Python311\\site-packages\\scikeras\\wrappers.py:915: UserWarning: ``build_fn`` will be renamed to ``model`` in a future release, at which point use of ``build_fn`` will raise an Error instead.\n",
      "  X, y = self._initialize(X, y)\n"
     ]
    },
    {
     "name": "stdout",
     "output_type": "stream",
     "text": [
      "201/201 [==============================] - 1s 1ms/step - loss: 0.6015 - accuracy: 0.6760\n",
      "51/51 [==============================] - 0s 1ms/step\n"
     ]
    },
    {
     "name": "stderr",
     "output_type": "stream",
     "text": [
      "C:\\Users\\786\\AppData\\Roaming\\Python\\Python311\\site-packages\\scikeras\\wrappers.py:915: UserWarning: ``build_fn`` will be renamed to ``model`` in a future release, at which point use of ``build_fn`` will raise an Error instead.\n",
      "  X, y = self._initialize(X, y)\n"
     ]
    },
    {
     "name": "stdout",
     "output_type": "stream",
     "text": [
      "201/201 [==============================] - 1s 2ms/step - loss: 0.5966 - accuracy: 0.6742\n",
      "51/51 [==============================] - 0s 938us/step\n"
     ]
    },
    {
     "name": "stderr",
     "output_type": "stream",
     "text": [
      "C:\\Users\\786\\AppData\\Roaming\\Python\\Python311\\site-packages\\scikeras\\wrappers.py:915: UserWarning: ``build_fn`` will be renamed to ``model`` in a future release, at which point use of ``build_fn`` will raise an Error instead.\n",
      "  X, y = self._initialize(X, y)\n"
     ]
    },
    {
     "name": "stdout",
     "output_type": "stream",
     "text": [
      "201/201 [==============================] - 1s 1ms/step - loss: 0.6346 - accuracy: 0.6311\n",
      "51/51 [==============================] - 0s 946us/step\n"
     ]
    },
    {
     "name": "stderr",
     "output_type": "stream",
     "text": [
      "C:\\Users\\786\\AppData\\Roaming\\Python\\Python311\\site-packages\\scikeras\\wrappers.py:915: UserWarning: ``build_fn`` will be renamed to ``model`` in a future release, at which point use of ``build_fn`` will raise an Error instead.\n",
      "  X, y = self._initialize(X, y)\n"
     ]
    },
    {
     "name": "stdout",
     "output_type": "stream",
     "text": [
      "201/201 [==============================] - 3s 2ms/step - loss: 0.5907 - accuracy: 0.6777\n",
      "51/51 [==============================] - 0s 2ms/step\n"
     ]
    },
    {
     "name": "stderr",
     "output_type": "stream",
     "text": [
      "C:\\Users\\786\\AppData\\Roaming\\Python\\Python311\\site-packages\\scikeras\\wrappers.py:915: UserWarning: ``build_fn`` will be renamed to ``model`` in a future release, at which point use of ``build_fn`` will raise an Error instead.\n",
      "  X, y = self._initialize(X, y)\n"
     ]
    },
    {
     "name": "stdout",
     "output_type": "stream",
     "text": [
      "201/201 [==============================] - 2s 2ms/step - loss: 0.5809 - accuracy: 0.6974\n",
      "51/51 [==============================] - 0s 890us/step\n"
     ]
    },
    {
     "name": "stderr",
     "output_type": "stream",
     "text": [
      "C:\\Users\\786\\AppData\\Roaming\\Python\\Python311\\site-packages\\scikeras\\wrappers.py:915: UserWarning: ``build_fn`` will be renamed to ``model`` in a future release, at which point use of ``build_fn`` will raise an Error instead.\n",
      "  X, y = self._initialize(X, y)\n"
     ]
    },
    {
     "name": "stdout",
     "output_type": "stream",
     "text": [
      "201/201 [==============================] - 1s 2ms/step - loss: 0.5442 - accuracy: 0.7264\n",
      "51/51 [==============================] - 0s 1ms/step\n"
     ]
    },
    {
     "name": "stderr",
     "output_type": "stream",
     "text": [
      "C:\\Users\\786\\AppData\\Roaming\\Python\\Python311\\site-packages\\scikeras\\wrappers.py:915: UserWarning: ``build_fn`` will be renamed to ``model`` in a future release, at which point use of ``build_fn`` will raise an Error instead.\n",
      "  X, y = self._initialize(X, y)\n"
     ]
    },
    {
     "name": "stdout",
     "output_type": "stream",
     "text": [
      "201/201 [==============================] - 1s 2ms/step - loss: 0.5561 - accuracy: 0.7154\n",
      "51/51 [==============================] - 0s 1ms/step\n"
     ]
    },
    {
     "name": "stderr",
     "output_type": "stream",
     "text": [
      "C:\\Users\\786\\AppData\\Roaming\\Python\\Python311\\site-packages\\scikeras\\wrappers.py:915: UserWarning: ``build_fn`` will be renamed to ``model`` in a future release, at which point use of ``build_fn`` will raise an Error instead.\n",
      "  X, y = self._initialize(X, y)\n"
     ]
    },
    {
     "name": "stdout",
     "output_type": "stream",
     "text": [
      "201/201 [==============================] - 1s 2ms/step - loss: 0.5497 - accuracy: 0.7294\n",
      "51/51 [==============================] - 0s 1ms/step\n"
     ]
    },
    {
     "name": "stderr",
     "output_type": "stream",
     "text": [
      "C:\\Users\\786\\AppData\\Roaming\\Python\\Python311\\site-packages\\scikeras\\wrappers.py:915: UserWarning: ``build_fn`` will be renamed to ``model`` in a future release, at which point use of ``build_fn`` will raise an Error instead.\n",
      "  X, y = self._initialize(X, y)\n"
     ]
    },
    {
     "name": "stdout",
     "output_type": "stream",
     "text": [
      "201/201 [==============================] - 1s 2ms/step - loss: 0.5524 - accuracy: 0.7212\n",
      "51/51 [==============================] - 0s 902us/step\n"
     ]
    },
    {
     "name": "stderr",
     "output_type": "stream",
     "text": [
      "C:\\Users\\786\\AppData\\Roaming\\Python\\Python311\\site-packages\\scikeras\\wrappers.py:915: UserWarning: ``build_fn`` will be renamed to ``model`` in a future release, at which point use of ``build_fn`` will raise an Error instead.\n",
      "  X, y = self._initialize(X, y)\n"
     ]
    },
    {
     "name": "stdout",
     "output_type": "stream",
     "text": [
      "201/201 [==============================] - 2s 2ms/step - loss: 0.5579 - accuracy: 0.7179\n",
      "51/51 [==============================] - 0s 1000us/step\n"
     ]
    },
    {
     "name": "stderr",
     "output_type": "stream",
     "text": [
      "C:\\Users\\786\\AppData\\Roaming\\Python\\Python311\\site-packages\\scikeras\\wrappers.py:915: UserWarning: ``build_fn`` will be renamed to ``model`` in a future release, at which point use of ``build_fn`` will raise an Error instead.\n",
      "  X, y = self._initialize(X, y)\n"
     ]
    },
    {
     "name": "stdout",
     "output_type": "stream",
     "text": [
      "201/201 [==============================] - 1s 2ms/step - loss: 0.5265 - accuracy: 0.7411\n",
      "51/51 [==============================] - 0s 955us/step\n"
     ]
    },
    {
     "name": "stderr",
     "output_type": "stream",
     "text": [
      "C:\\Users\\786\\AppData\\Roaming\\Python\\Python311\\site-packages\\scikeras\\wrappers.py:915: UserWarning: ``build_fn`` will be renamed to ``model`` in a future release, at which point use of ``build_fn`` will raise an Error instead.\n",
      "  X, y = self._initialize(X, y)\n"
     ]
    },
    {
     "name": "stdout",
     "output_type": "stream",
     "text": [
      "201/201 [==============================] - 1s 2ms/step - loss: 0.5195 - accuracy: 0.7495\n",
      "51/51 [==============================] - 0s 963us/step\n"
     ]
    },
    {
     "name": "stderr",
     "output_type": "stream",
     "text": [
      "C:\\Users\\786\\AppData\\Roaming\\Python\\Python311\\site-packages\\scikeras\\wrappers.py:915: UserWarning: ``build_fn`` will be renamed to ``model`` in a future release, at which point use of ``build_fn`` will raise an Error instead.\n",
      "  X, y = self._initialize(X, y)\n"
     ]
    },
    {
     "name": "stdout",
     "output_type": "stream",
     "text": [
      "201/201 [==============================] - 1s 2ms/step - loss: 0.5244 - accuracy: 0.7501\n",
      "51/51 [==============================] - 0s 930us/step\n"
     ]
    },
    {
     "name": "stderr",
     "output_type": "stream",
     "text": [
      "C:\\Users\\786\\AppData\\Roaming\\Python\\Python311\\site-packages\\scikeras\\wrappers.py:915: UserWarning: ``build_fn`` will be renamed to ``model`` in a future release, at which point use of ``build_fn`` will raise an Error instead.\n",
      "  X, y = self._initialize(X, y)\n"
     ]
    },
    {
     "name": "stdout",
     "output_type": "stream",
     "text": [
      "201/201 [==============================] - 1s 2ms/step - loss: 0.5200 - accuracy: 0.7503\n",
      "51/51 [==============================] - 0s 1ms/step\n"
     ]
    },
    {
     "name": "stderr",
     "output_type": "stream",
     "text": [
      "C:\\Users\\786\\AppData\\Roaming\\Python\\Python311\\site-packages\\scikeras\\wrappers.py:915: UserWarning: ``build_fn`` will be renamed to ``model`` in a future release, at which point use of ``build_fn`` will raise an Error instead.\n",
      "  X, y = self._initialize(X, y)\n"
     ]
    },
    {
     "name": "stdout",
     "output_type": "stream",
     "text": [
      "201/201 [==============================] - 1s 2ms/step - loss: 0.5206 - accuracy: 0.7481\n",
      "51/51 [==============================] - 0s 1ms/step\n"
     ]
    },
    {
     "name": "stderr",
     "output_type": "stream",
     "text": [
      "C:\\Users\\786\\AppData\\Roaming\\Python\\Python311\\site-packages\\scikeras\\wrappers.py:915: UserWarning: ``build_fn`` will be renamed to ``model`` in a future release, at which point use of ``build_fn`` will raise an Error instead.\n",
      "  X, y = self._initialize(X, y)\n"
     ]
    },
    {
     "name": "stdout",
     "output_type": "stream",
     "text": [
      "201/201 [==============================] - 2s 2ms/step - loss: 0.6143 - accuracy: 0.6479\n",
      "51/51 [==============================] - 0s 926us/step\n"
     ]
    },
    {
     "name": "stderr",
     "output_type": "stream",
     "text": [
      "C:\\Users\\786\\AppData\\Roaming\\Python\\Python311\\site-packages\\scikeras\\wrappers.py:915: UserWarning: ``build_fn`` will be renamed to ``model`` in a future release, at which point use of ``build_fn`` will raise an Error instead.\n",
      "  X, y = self._initialize(X, y)\n"
     ]
    },
    {
     "name": "stdout",
     "output_type": "stream",
     "text": [
      "201/201 [==============================] - 2s 2ms/step - loss: 0.6332 - accuracy: 0.6247\n",
      "51/51 [==============================] - 0s 913us/step\n"
     ]
    },
    {
     "name": "stderr",
     "output_type": "stream",
     "text": [
      "C:\\Users\\786\\AppData\\Roaming\\Python\\Python311\\site-packages\\scikeras\\wrappers.py:915: UserWarning: ``build_fn`` will be renamed to ``model`` in a future release, at which point use of ``build_fn`` will raise an Error instead.\n",
      "  X, y = self._initialize(X, y)\n"
     ]
    },
    {
     "name": "stdout",
     "output_type": "stream",
     "text": [
      "201/201 [==============================] - 2s 2ms/step - loss: 0.6349 - accuracy: 0.6331\n",
      "51/51 [==============================] - 0s 928us/step\n"
     ]
    },
    {
     "name": "stderr",
     "output_type": "stream",
     "text": [
      "C:\\Users\\786\\AppData\\Roaming\\Python\\Python311\\site-packages\\scikeras\\wrappers.py:915: UserWarning: ``build_fn`` will be renamed to ``model`` in a future release, at which point use of ``build_fn`` will raise an Error instead.\n",
      "  X, y = self._initialize(X, y)\n"
     ]
    },
    {
     "name": "stdout",
     "output_type": "stream",
     "text": [
      "201/201 [==============================] - 2s 2ms/step - loss: 0.6267 - accuracy: 0.6270\n",
      "51/51 [==============================] - 0s 912us/step\n"
     ]
    },
    {
     "name": "stderr",
     "output_type": "stream",
     "text": [
      "C:\\Users\\786\\AppData\\Roaming\\Python\\Python311\\site-packages\\scikeras\\wrappers.py:915: UserWarning: ``build_fn`` will be renamed to ``model`` in a future release, at which point use of ``build_fn`` will raise an Error instead.\n",
      "  X, y = self._initialize(X, y)\n"
     ]
    },
    {
     "name": "stdout",
     "output_type": "stream",
     "text": [
      "201/201 [==============================] - 2s 2ms/step - loss: 0.6240 - accuracy: 0.6392\n",
      "51/51 [==============================] - 0s 960us/step\n"
     ]
    },
    {
     "name": "stderr",
     "output_type": "stream",
     "text": [
      "C:\\Users\\786\\AppData\\Roaming\\Python\\Python311\\site-packages\\scikeras\\wrappers.py:915: UserWarning: ``build_fn`` will be renamed to ``model`` in a future release, at which point use of ``build_fn`` will raise an Error instead.\n",
      "  X, y = self._initialize(X, y)\n"
     ]
    },
    {
     "name": "stdout",
     "output_type": "stream",
     "text": [
      "201/201 [==============================] - 2s 2ms/step - loss: 0.5783 - accuracy: 0.7012\n",
      "51/51 [==============================] - 0s 944us/step\n"
     ]
    },
    {
     "name": "stderr",
     "output_type": "stream",
     "text": [
      "C:\\Users\\786\\AppData\\Roaming\\Python\\Python311\\site-packages\\scikeras\\wrappers.py:915: UserWarning: ``build_fn`` will be renamed to ``model`` in a future release, at which point use of ``build_fn`` will raise an Error instead.\n",
      "  X, y = self._initialize(X, y)\n"
     ]
    },
    {
     "name": "stdout",
     "output_type": "stream",
     "text": [
      "201/201 [==============================] - 2s 2ms/step - loss: 0.5817 - accuracy: 0.6938\n",
      "51/51 [==============================] - 0s 1ms/step\n"
     ]
    },
    {
     "name": "stderr",
     "output_type": "stream",
     "text": [
      "C:\\Users\\786\\AppData\\Roaming\\Python\\Python311\\site-packages\\scikeras\\wrappers.py:915: UserWarning: ``build_fn`` will be renamed to ``model`` in a future release, at which point use of ``build_fn`` will raise an Error instead.\n",
      "  X, y = self._initialize(X, y)\n"
     ]
    },
    {
     "name": "stdout",
     "output_type": "stream",
     "text": [
      "201/201 [==============================] - 2s 2ms/step - loss: 0.5824 - accuracy: 0.7033\n",
      "51/51 [==============================] - 0s 1ms/step\n"
     ]
    },
    {
     "name": "stderr",
     "output_type": "stream",
     "text": [
      "C:\\Users\\786\\AppData\\Roaming\\Python\\Python311\\site-packages\\scikeras\\wrappers.py:915: UserWarning: ``build_fn`` will be renamed to ``model`` in a future release, at which point use of ``build_fn`` will raise an Error instead.\n",
      "  X, y = self._initialize(X, y)\n"
     ]
    },
    {
     "name": "stdout",
     "output_type": "stream",
     "text": [
      "201/201 [==============================] - 2s 2ms/step - loss: 0.5763 - accuracy: 0.6921\n",
      "51/51 [==============================] - 0s 1ms/step\n"
     ]
    },
    {
     "name": "stderr",
     "output_type": "stream",
     "text": [
      "C:\\Users\\786\\AppData\\Roaming\\Python\\Python311\\site-packages\\scikeras\\wrappers.py:915: UserWarning: ``build_fn`` will be renamed to ``model`` in a future release, at which point use of ``build_fn`` will raise an Error instead.\n",
      "  X, y = self._initialize(X, y)\n"
     ]
    },
    {
     "name": "stdout",
     "output_type": "stream",
     "text": [
      "201/201 [==============================] - 2s 2ms/step - loss: 0.6012 - accuracy: 0.6683\n",
      "51/51 [==============================] - 0s 988us/step\n"
     ]
    },
    {
     "name": "stderr",
     "output_type": "stream",
     "text": [
      "C:\\Users\\786\\AppData\\Roaming\\Python\\Python311\\site-packages\\scikeras\\wrappers.py:915: UserWarning: ``build_fn`` will be renamed to ``model`` in a future release, at which point use of ``build_fn`` will raise an Error instead.\n",
      "  X, y = self._initialize(X, y)\n"
     ]
    },
    {
     "name": "stdout",
     "output_type": "stream",
     "text": [
      "201/201 [==============================] - 2s 3ms/step - loss: 0.5379 - accuracy: 0.7355\n",
      "51/51 [==============================] - 1s 1ms/step\n"
     ]
    },
    {
     "name": "stderr",
     "output_type": "stream",
     "text": [
      "C:\\Users\\786\\AppData\\Roaming\\Python\\Python311\\site-packages\\scikeras\\wrappers.py:915: UserWarning: ``build_fn`` will be renamed to ``model`` in a future release, at which point use of ``build_fn`` will raise an Error instead.\n",
      "  X, y = self._initialize(X, y)\n"
     ]
    },
    {
     "name": "stdout",
     "output_type": "stream",
     "text": [
      "201/201 [==============================] - 2s 3ms/step - loss: 0.5387 - accuracy: 0.7404\n",
      "51/51 [==============================] - 0s 2ms/step\n"
     ]
    },
    {
     "name": "stderr",
     "output_type": "stream",
     "text": [
      "C:\\Users\\786\\AppData\\Roaming\\Python\\Python311\\site-packages\\scikeras\\wrappers.py:915: UserWarning: ``build_fn`` will be renamed to ``model`` in a future release, at which point use of ``build_fn`` will raise an Error instead.\n",
      "  X, y = self._initialize(X, y)\n"
     ]
    },
    {
     "name": "stdout",
     "output_type": "stream",
     "text": [
      "201/201 [==============================] - 3s 4ms/step - loss: 0.5382 - accuracy: 0.7414\n",
      "51/51 [==============================] - 1s 3ms/step\n"
     ]
    },
    {
     "name": "stderr",
     "output_type": "stream",
     "text": [
      "C:\\Users\\786\\AppData\\Roaming\\Python\\Python311\\site-packages\\scikeras\\wrappers.py:915: UserWarning: ``build_fn`` will be renamed to ``model`` in a future release, at which point use of ``build_fn`` will raise an Error instead.\n",
      "  X, y = self._initialize(X, y)\n"
     ]
    },
    {
     "name": "stdout",
     "output_type": "stream",
     "text": [
      "201/201 [==============================] - 2s 3ms/step - loss: 0.5292 - accuracy: 0.7414\n",
      "51/51 [==============================] - 0s 2ms/step\n"
     ]
    },
    {
     "name": "stderr",
     "output_type": "stream",
     "text": [
      "C:\\Users\\786\\AppData\\Roaming\\Python\\Python311\\site-packages\\scikeras\\wrappers.py:915: UserWarning: ``build_fn`` will be renamed to ``model`` in a future release, at which point use of ``build_fn`` will raise an Error instead.\n",
      "  X, y = self._initialize(X, y)\n"
     ]
    },
    {
     "name": "stdout",
     "output_type": "stream",
     "text": [
      "201/201 [==============================] - 2s 3ms/step - loss: 0.5389 - accuracy: 0.7299\n",
      "51/51 [==============================] - 0s 1ms/step\n"
     ]
    },
    {
     "name": "stderr",
     "output_type": "stream",
     "text": [
      "C:\\Users\\786\\AppData\\Roaming\\Python\\Python311\\site-packages\\scikeras\\wrappers.py:915: UserWarning: ``build_fn`` will be renamed to ``model`` in a future release, at which point use of ``build_fn`` will raise an Error instead.\n",
      "  X, y = self._initialize(X, y)\n"
     ]
    },
    {
     "name": "stdout",
     "output_type": "stream",
     "text": [
      "252/252 [==============================] - 1s 2ms/step - loss: 0.5176 - accuracy: 0.7543\n"
     ]
    }
   ],
   "source": [
    "import tensorflow as tf\n",
    "from scikeras.wrappers import KerasClassifier\n",
    "from sklearn.model_selection import RandomizedSearchCV\n",
    "\n",
    "\n",
    "# Define hyperparameters grid\n",
    "layers_grid = [1, 2, 3]\n",
    "neurons_grid = [ 32, 64, 128]\n",
    "\n",
    "hyperparameters = {'layers': layers_grid, 'neurons': neurons_grid}\n",
    "\n",
    "# Perform hyperparameter tuning\n",
    "model = KerasClassifier(build_fn=create_model,layers=0, neurons=0 )\n",
    "grid_search = RandomizedSearchCV(estimator=model, param_distributions=hyperparameters, cv=5)\n",
    "grid_search.fit(X_train, y_train)\n",
    "\n",
    "\n",
    "# Get best hyperparameters\n",
    "best_params = grid_search.best_params_\n",
    "best_layers = best_params['layers']\n",
    "best_neurons = best_params['neurons']"
   ]
  },
  {
   "cell_type": "code",
   "execution_count": 26,
   "metadata": {},
   "outputs": [
    {
     "name": "stdout",
     "output_type": "stream",
     "text": [
      "Model: \"sequential_138\"\n",
      "_________________________________________________________________\n",
      " Layer (type)                Output Shape              Param #   \n",
      "=================================================================\n",
      " dense_414 (Dense)           (None, 128)               6016      \n",
      "                                                                 \n",
      " dense_415 (Dense)           (None, 128)               16512     \n",
      "                                                                 \n",
      " dropout_276 (Dropout)       (None, 128)               0         \n",
      "                                                                 \n",
      " dropout_277 (Dropout)       (None, 128)               0         \n",
      "                                                                 \n",
      " dense_416 (Dense)           (None, 1)                 129       \n",
      "                                                                 \n",
      "=================================================================\n",
      "Total params: 22657 (88.50 KB)\n",
      "Trainable params: 22657 (88.50 KB)\n",
      "Non-trainable params: 0 (0.00 Byte)\n",
      "_________________________________________________________________\n"
     ]
    }
   ],
   "source": [
    "# Create the best model\n",
    "best_nn_model = create_model(best_layers, best_neurons)\n",
    "best_nn_model.summary()"
   ]
  },
  {
   "cell_type": "code",
   "execution_count": 27,
   "metadata": {},
   "outputs": [
    {
     "data": {
      "text/plain": [
       "{0: 1.0, 1: 1.0}"
      ]
     },
     "execution_count": 27,
     "metadata": {},
     "output_type": "execute_result"
    }
   ],
   "source": [
    "from sklearn.utils.class_weight import compute_class_weight\n",
    "\n",
    "class_weights = compute_class_weight(\n",
    "                                        class_weight = \"balanced\",\n",
    "                                        classes = np.unique(y),\n",
    "                                        y = y                                                    \n",
    "                                    )\n",
    "class_weights = dict(zip(np.unique(y), class_weights))\n",
    "class_weights"
   ]
  },
  {
   "cell_type": "code",
   "execution_count": 28,
   "metadata": {},
   "outputs": [
    {
     "name": "stdout",
     "output_type": "stream",
     "text": [
      "Epoch 1/50\n",
      "252/252 [==============================] - 2s 3ms/step - loss: 0.5159 - accuracy: 0.7532 - val_loss: 0.4543 - val_accuracy: 0.7871\n",
      "Epoch 2/50\n",
      "252/252 [==============================] - 1s 2ms/step - loss: 0.4750 - accuracy: 0.7789 - val_loss: 0.4480 - val_accuracy: 0.7915\n",
      "Epoch 3/50\n",
      "252/252 [==============================] - 1s 2ms/step - loss: 0.4564 - accuracy: 0.7853 - val_loss: 0.4393 - val_accuracy: 0.7900\n",
      "Epoch 4/50\n",
      "252/252 [==============================] - 1s 2ms/step - loss: 0.4501 - accuracy: 0.7926 - val_loss: 0.4344 - val_accuracy: 0.7975\n",
      "Epoch 5/50\n",
      "252/252 [==============================] - 1s 3ms/step - loss: 0.4446 - accuracy: 0.7917 - val_loss: 0.4301 - val_accuracy: 0.7970\n",
      "Epoch 6/50\n",
      "252/252 [==============================] - 1s 3ms/step - loss: 0.4402 - accuracy: 0.7983 - val_loss: 0.4285 - val_accuracy: 0.7960\n",
      "Epoch 7/50\n",
      "252/252 [==============================] - 1s 3ms/step - loss: 0.4306 - accuracy: 0.8048 - val_loss: 0.4238 - val_accuracy: 0.7990\n",
      "Epoch 8/50\n",
      "252/252 [==============================] - 1s 3ms/step - loss: 0.4275 - accuracy: 0.8013 - val_loss: 0.4213 - val_accuracy: 0.8045\n",
      "Epoch 9/50\n",
      "252/252 [==============================] - 1s 3ms/step - loss: 0.4177 - accuracy: 0.8085 - val_loss: 0.4247 - val_accuracy: 0.7960\n",
      "Epoch 10/50\n",
      "252/252 [==============================] - 1s 3ms/step - loss: 0.4125 - accuracy: 0.8055 - val_loss: 0.4140 - val_accuracy: 0.8095\n",
      "Epoch 11/50\n",
      "252/252 [==============================] - 1s 3ms/step - loss: 0.4052 - accuracy: 0.8133 - val_loss: 0.4188 - val_accuracy: 0.8080\n",
      "Epoch 12/50\n",
      "252/252 [==============================] - 1s 3ms/step - loss: 0.3981 - accuracy: 0.8189 - val_loss: 0.4276 - val_accuracy: 0.7995\n",
      "Epoch 13/50\n",
      "252/252 [==============================] - 1s 3ms/step - loss: 0.3934 - accuracy: 0.8196 - val_loss: 0.4136 - val_accuracy: 0.8100\n",
      "Epoch 14/50\n",
      "252/252 [==============================] - 1s 3ms/step - loss: 0.3874 - accuracy: 0.8267 - val_loss: 0.4197 - val_accuracy: 0.8045\n",
      "Epoch 15/50\n",
      "252/252 [==============================] - 1s 3ms/step - loss: 0.3825 - accuracy: 0.8251 - val_loss: 0.4141 - val_accuracy: 0.8030\n",
      "Epoch 16/50\n",
      "252/252 [==============================] - 1s 3ms/step - loss: 0.3763 - accuracy: 0.8296 - val_loss: 0.4102 - val_accuracy: 0.8119\n",
      "Epoch 17/50\n",
      "252/252 [==============================] - 1s 3ms/step - loss: 0.3688 - accuracy: 0.8360 - val_loss: 0.4095 - val_accuracy: 0.8104\n",
      "Epoch 18/50\n",
      "252/252 [==============================] - 1s 3ms/step - loss: 0.3676 - accuracy: 0.8409 - val_loss: 0.4060 - val_accuracy: 0.8174\n",
      "Epoch 19/50\n",
      "252/252 [==============================] - 1s 3ms/step - loss: 0.3545 - accuracy: 0.8435 - val_loss: 0.4056 - val_accuracy: 0.8179\n",
      "Epoch 20/50\n",
      "252/252 [==============================] - 1s 3ms/step - loss: 0.3532 - accuracy: 0.8456 - val_loss: 0.4037 - val_accuracy: 0.8169\n",
      "Epoch 21/50\n",
      "252/252 [==============================] - 1s 3ms/step - loss: 0.3499 - accuracy: 0.8480 - val_loss: 0.4044 - val_accuracy: 0.8169\n",
      "Epoch 22/50\n",
      "252/252 [==============================] - 1s 3ms/step - loss: 0.3455 - accuracy: 0.8465 - val_loss: 0.4050 - val_accuracy: 0.8174\n",
      "Epoch 23/50\n",
      "252/252 [==============================] - 1s 3ms/step - loss: 0.3400 - accuracy: 0.8496 - val_loss: 0.4161 - val_accuracy: 0.8174\n",
      "Epoch 24/50\n",
      "252/252 [==============================] - 1s 3ms/step - loss: 0.3319 - accuracy: 0.8528 - val_loss: 0.4073 - val_accuracy: 0.8229\n",
      "Epoch 25/50\n",
      "252/252 [==============================] - 1s 3ms/step - loss: 0.3251 - accuracy: 0.8573 - val_loss: 0.4138 - val_accuracy: 0.8179\n",
      "Epoch 26/50\n",
      "252/252 [==============================] - 1s 3ms/step - loss: 0.3205 - accuracy: 0.8580 - val_loss: 0.4018 - val_accuracy: 0.8229\n",
      "Epoch 27/50\n",
      "252/252 [==============================] - 1s 3ms/step - loss: 0.3169 - accuracy: 0.8604 - val_loss: 0.4062 - val_accuracy: 0.8209\n",
      "Epoch 28/50\n",
      "252/252 [==============================] - 1s 3ms/step - loss: 0.3147 - accuracy: 0.8634 - val_loss: 0.4024 - val_accuracy: 0.8244\n",
      "Epoch 29/50\n",
      "252/252 [==============================] - 1s 3ms/step - loss: 0.3101 - accuracy: 0.8648 - val_loss: 0.4001 - val_accuracy: 0.8269\n",
      "Epoch 30/50\n",
      "252/252 [==============================] - 1s 3ms/step - loss: 0.3030 - accuracy: 0.8660 - val_loss: 0.4124 - val_accuracy: 0.8294\n",
      "Epoch 31/50\n",
      "252/252 [==============================] - 1s 3ms/step - loss: 0.3054 - accuracy: 0.8650 - val_loss: 0.4039 - val_accuracy: 0.8244\n",
      "Epoch 32/50\n",
      "252/252 [==============================] - 1s 3ms/step - loss: 0.2939 - accuracy: 0.8726 - val_loss: 0.4128 - val_accuracy: 0.8234\n",
      "Epoch 33/50\n",
      "252/252 [==============================] - 1s 3ms/step - loss: 0.2898 - accuracy: 0.8725 - val_loss: 0.4110 - val_accuracy: 0.8254\n",
      "Epoch 34/50\n",
      "252/252 [==============================] - 1s 3ms/step - loss: 0.2924 - accuracy: 0.8720 - val_loss: 0.4088 - val_accuracy: 0.8294\n",
      "Epoch 35/50\n",
      "252/252 [==============================] - 1s 3ms/step - loss: 0.2853 - accuracy: 0.8730 - val_loss: 0.4157 - val_accuracy: 0.8189\n",
      "Epoch 36/50\n",
      "252/252 [==============================] - 1s 3ms/step - loss: 0.2835 - accuracy: 0.8773 - val_loss: 0.4257 - val_accuracy: 0.8289\n",
      "Epoch 37/50\n",
      "252/252 [==============================] - 1s 3ms/step - loss: 0.2850 - accuracy: 0.8765 - val_loss: 0.4252 - val_accuracy: 0.8249\n",
      "Epoch 38/50\n",
      "252/252 [==============================] - 1s 3ms/step - loss: 0.2796 - accuracy: 0.8793 - val_loss: 0.4136 - val_accuracy: 0.8259\n",
      "Epoch 39/50\n",
      "252/252 [==============================] - 1s 2ms/step - loss: 0.2750 - accuracy: 0.8773 - val_loss: 0.4134 - val_accuracy: 0.8318\n",
      "Epoch 40/50\n",
      "252/252 [==============================] - 1s 2ms/step - loss: 0.2693 - accuracy: 0.8808 - val_loss: 0.4257 - val_accuracy: 0.8279\n",
      "Epoch 41/50\n",
      "252/252 [==============================] - 1s 2ms/step - loss: 0.2702 - accuracy: 0.8817 - val_loss: 0.4206 - val_accuracy: 0.8269\n",
      "Epoch 42/50\n",
      "252/252 [==============================] - 1s 2ms/step - loss: 0.2643 - accuracy: 0.8867 - val_loss: 0.4328 - val_accuracy: 0.8348\n",
      "Epoch 43/50\n",
      "252/252 [==============================] - 1s 3ms/step - loss: 0.2617 - accuracy: 0.8875 - val_loss: 0.4369 - val_accuracy: 0.8338\n",
      "Epoch 44/50\n",
      "252/252 [==============================] - 1s 3ms/step - loss: 0.2584 - accuracy: 0.8890 - val_loss: 0.4347 - val_accuracy: 0.8348\n",
      "Epoch 45/50\n",
      "252/252 [==============================] - 1s 3ms/step - loss: 0.2574 - accuracy: 0.8895 - val_loss: 0.4372 - val_accuracy: 0.8313\n",
      "Epoch 46/50\n",
      "252/252 [==============================] - 1s 3ms/step - loss: 0.2566 - accuracy: 0.8904 - val_loss: 0.4470 - val_accuracy: 0.8259\n",
      "Epoch 47/50\n",
      "252/252 [==============================] - 1s 3ms/step - loss: 0.2521 - accuracy: 0.8894 - val_loss: 0.4393 - val_accuracy: 0.8254\n",
      "Epoch 48/50\n",
      "252/252 [==============================] - 1s 2ms/step - loss: 0.2536 - accuracy: 0.8909 - val_loss: 0.4350 - val_accuracy: 0.8284\n",
      "Epoch 49/50\n",
      "252/252 [==============================] - 1s 3ms/step - loss: 0.2463 - accuracy: 0.8924 - val_loss: 0.4509 - val_accuracy: 0.8299\n",
      "Epoch 50/50\n",
      "252/252 [==============================] - 1s 2ms/step - loss: 0.2506 - accuracy: 0.8918 - val_loss: 0.4370 - val_accuracy: 0.8318\n"
     ]
    }
   ],
   "source": [
    "tf.random.set_seed(1234)\n",
    "history = best_nn_model.fit(X_train, y_train, epochs=50,class_weight=class_weights, validation_data=(X_test,y_test))"
   ]
  },
  {
   "cell_type": "code",
   "execution_count": 29,
   "metadata": {},
   "outputs": [
    {
     "name": "stdout",
     "output_type": "stream",
     "text": [
      "63/63 [==============================] - 0s 1ms/step - loss: 0.4370 - accuracy: 0.8318\n",
      "Test accuracy: 0.8318408131599426\n",
      "Test loss: 0.4370393753051758\n"
     ]
    }
   ],
   "source": [
    "# Evaluate the best model (replace with your evaluation metrics)\n",
    "test_loss, test_acc = best_nn_model.evaluate(X_test, y_test)\n",
    "print('Test accuracy:', test_acc)\n",
    "print('Test loss:',test_loss )"
   ]
  },
  {
   "cell_type": "code",
   "execution_count": 30,
   "metadata": {},
   "outputs": [
    {
     "data": {
      "image/png": "[encoded data removed]",
      "text/plain": [
       "<Figure size 1200x600 with 1 Axes>"
      ]
     },
     "metadata": {},
     "output_type": "display_data"
    },
    {
     "data": {
      "image/png": "[encoded data removed]",
      "text/plain": [
       "<Figure size 1200x600 with 1 Axes>"
      ]
     },
     "metadata": {},
     "output_type": "display_data"
    }
   ],
   "source": [
    "# Plot loss over epochs\n",
    "plt.figure(figsize=(12, 6))\n",
    "plt.plot(history.history['loss'], label='Training Loss')\n",
    "plt.plot(history.history['val_loss'], label='Validation Loss')\n",
    "plt.title('Training and Validation Loss')\n",
    "plt.xlabel('Epochs')\n",
    "plt.ylabel('Loss')\n",
    "plt.legend()\n",
    "plt.show()\n",
    "\n",
    "# Plot accuracy over epochs\n",
    "plt.figure(figsize=(12, 6))\n",
    "plt.plot(history.history['accuracy'], label='Training Accuracy')\n",
    "plt.plot(history.history['val_accuracy'], label='Validation Accuracy')\n",
    "plt.title('Training and Validation Accuracy')\n",
    "plt.xlabel('Epochs')\n",
    "plt.ylabel('Accuracy')\n",
    "plt.legend()\n",
    "plt.show()"
   ]
  },
  {
   "cell_type": "markdown",
   "metadata": {},
   "source": [
    "# Saving Best Model"
   ]
  },
  {
   "cell_type": "code",
   "execution_count": 31,
   "metadata": {},
   "outputs": [],
   "source": [
    "# Save the architecture to JSON\n",
    "model_json = best_nn_model.to_json()\n",
    "with open(\"best_nn_model.json\", \"w\") as json_file:\n",
    "    json_file.write(model_json)\n",
    "\n",
    "# Save the weights to HDF5\n",
    "best_nn_model.save_weights(\"best_nn_model.h5\")"
   ]
  }
 ],
 "metadata": {
  "kernelspec": {
   "display_name": "base",
   "language": "python",
   "name": "python3"
  },
  "language_info": {
   "codemirror_mode": {
    "name": "ipython",
    "version": 3
   },
   "file_extension": ".py",
   "mimetype": "text/x-python",
   "name": "python",
   "nbconvert_exporter": "python",
   "pygments_lexer": "ipython3",
   "version": "3.11.3"
  }
 },
 "nbformat": 4,
 "nbformat_minor": 2
}
