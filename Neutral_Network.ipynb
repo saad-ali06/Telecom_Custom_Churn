{
 "cells": [
  {
   "cell_type": "markdown",
   "metadata": {},
   "source": [
    "# Neural Network"
   ]
  },
  {
   "cell_type": "code",
   "execution_count": 1,
   "metadata": {},
   "outputs": [],
   "source": [
    "import numpy as np\n",
    "import pandas as pd\n",
    "import matplotlib.pyplot as plt\n",
    "from sklearn.model_selection import train_test_split"
   ]
  },
  {
   "cell_type": "markdown",
   "metadata": {},
   "source": [
    "# Loading Dataset "
   ]
  },
  {
   "cell_type": "code",
   "execution_count": 2,
   "metadata": {},
   "outputs": [],
   "source": [
    "df =pd.read_csv('dataset/prepared_dataset.csv')\n",
    "# This code is preparing the data for a machine learning model.\n",
    "y = df['Churn'].values\n",
    "X = df.drop(columns = ['Churn','Unnamed: 0'])"
   ]
  },
  {
   "cell_type": "markdown",
   "metadata": {},
   "source": [
    "## Spliting Data into Train Test Split."
   ]
  },
  {
   "cell_type": "code",
   "execution_count": 3,
   "metadata": {},
   "outputs": [],
   "source": [
    "# The line of code is splitting the dataset `X` and `y` into training and testing sets. The training set is stored in `X_train` and `y_train`, while the testing set is stored in `X_test` and `y_test`. The `test_size` parameter specifies the proportion of the dataset that should be allocated for testing (in this case, 20% of the data). The `random_state` parameter is used to ensure reproducibility of the split.\n",
    "X_train, X_test, y_train, y_test = train_test_split(X, y, test_size=0.2, random_state=101)"
   ]
  },
  {
   "cell_type": "code",
   "execution_count": 4,
   "metadata": {},
   "outputs": [],
   "source": [
    "import tensorflow as tf\n",
    "from sklearn.preprocessing import OneHotEncoder\n",
    "\n",
    "onehotenc = OneHotEncoder()\n",
    "y_one_hot = onehotenc.fit_transform(y.reshape(-1,1))\n",
    "\n",
    "# Assuming you have your data in variables X (features) and y (target variable):\n",
    "X_train, X_test, y_train, y_test = train_test_split(X, y, test_size=0.2, random_state=42)\n",
    "\n",
    "def create_model(layers, neurons, optimizer='adam'):\n",
    "    model = tf.keras.Sequential([\n",
    "        # Correct input layer creation (no parentheses around Input())\n",
    "        tf.keras.layers.Input(shape=(46,)),  # Match your input shape\n",
    "\n",
    "        # Hidden layers based on 'layers' and 'neurons'\n",
    "        *[tf.keras.layers.Dense(neurons, activation='relu') for _ in range(layers)],\n",
    "        *[tf.keras.layers.Dropout(0.5) for _ in range(layers)],\n",
    "\n",
    "        # Output layer with 7 units (adjust if needed)\n",
    "        tf.keras.layers.Dense(1, activation='sigmoid')\n",
    "    ])\n",
    "    model.compile(loss=\"binary_crossentropy\", optimizer=optimizer, metrics=[\"accuracy\"])\n",
    "    return model"
   ]
  },
  {
   "cell_type": "code",
   "execution_count": 5,
   "metadata": {},
   "outputs": [
    {
     "data": {
      "text/plain": [
       "(10046, 2)"
      ]
     },
     "execution_count": 5,
     "metadata": {},
     "output_type": "execute_result"
    }
   ],
   "source": [
    "y_one_hot.shape"
   ]
  },
  {
   "cell_type": "code",
   "execution_count": 6,
   "metadata": {},
   "outputs": [
    {
     "name": "stderr",
     "output_type": "stream",
     "text": [
      "C:\\Users\\786\\AppData\\Roaming\\Python\\Python311\\site-packages\\sklearn\\model_selection\\_search.py:318: UserWarning: The total space of parameters 9 is smaller than n_iter=10. Running 9 iterations. For exhaustive searches, use GridSearchCV.\n",
      "  warnings.warn(\n",
      "C:\\Users\\786\\AppData\\Roaming\\Python\\Python311\\site-packages\\scikeras\\wrappers.py:915: UserWarning: ``build_fn`` will be renamed to ``model`` in a future release, at which point use of ``build_fn`` will raise an Error instead.\n",
      "  X, y = self._initialize(X, y)\n"
     ]
    },
    {
     "name": "stdout",
     "output_type": "stream",
     "text": [
      "201/201 [==============================] - 2s 2ms/step - loss: 0.5880 - accuracy: 0.6812\n",
      "51/51 [==============================] - 0s 1ms/step\n"
     ]
    },
    {
     "name": "stderr",
     "output_type": "stream",
     "text": [
      "C:\\Users\\786\\AppData\\Roaming\\Python\\Python311\\site-packages\\scikeras\\wrappers.py:915: UserWarning: ``build_fn`` will be renamed to ``model`` in a future release, at which point use of ``build_fn`` will raise an Error instead.\n",
      "  X, y = self._initialize(X, y)\n"
     ]
    },
    {
     "name": "stdout",
     "output_type": "stream",
     "text": [
      "201/201 [==============================] - 2s 3ms/step - loss: 0.5917 - accuracy: 0.6846\n",
      "51/51 [==============================] - 0s 1ms/step\n"
     ]
    },
    {
     "name": "stderr",
     "output_type": "stream",
     "text": [
      "C:\\Users\\786\\AppData\\Roaming\\Python\\Python311\\site-packages\\scikeras\\wrappers.py:915: UserWarning: ``build_fn`` will be renamed to ``model`` in a future release, at which point use of ``build_fn`` will raise an Error instead.\n",
      "  X, y = self._initialize(X, y)\n"
     ]
    },
    {
     "name": "stdout",
     "output_type": "stream",
     "text": [
      "201/201 [==============================] - 2s 2ms/step - loss: 0.5735 - accuracy: 0.7029\n",
      "51/51 [==============================] - 0s 1ms/step\n"
     ]
    },
    {
     "name": "stderr",
     "output_type": "stream",
     "text": [
      "C:\\Users\\786\\AppData\\Roaming\\Python\\Python311\\site-packages\\scikeras\\wrappers.py:915: UserWarning: ``build_fn`` will be renamed to ``model`` in a future release, at which point use of ``build_fn`` will raise an Error instead.\n",
      "  X, y = self._initialize(X, y)\n"
     ]
    },
    {
     "name": "stdout",
     "output_type": "stream",
     "text": [
      "201/201 [==============================] - 1s 2ms/step - loss: 0.5853 - accuracy: 0.6917\n",
      "51/51 [==============================] - 0s 3ms/step\n"
     ]
    },
    {
     "name": "stderr",
     "output_type": "stream",
     "text": [
      "C:\\Users\\786\\AppData\\Roaming\\Python\\Python311\\site-packages\\scikeras\\wrappers.py:915: UserWarning: ``build_fn`` will be renamed to ``model`` in a future release, at which point use of ``build_fn`` will raise an Error instead.\n",
      "  X, y = self._initialize(X, y)\n"
     ]
    },
    {
     "name": "stdout",
     "output_type": "stream",
     "text": [
      "201/201 [==============================] - 3s 3ms/step - loss: 0.5784 - accuracy: 0.6970\n",
      "51/51 [==============================] - 0s 2ms/step\n"
     ]
    },
    {
     "name": "stderr",
     "output_type": "stream",
     "text": [
      "C:\\Users\\786\\AppData\\Roaming\\Python\\Python311\\site-packages\\scikeras\\wrappers.py:915: UserWarning: ``build_fn`` will be renamed to ``model`` in a future release, at which point use of ``build_fn`` will raise an Error instead.\n",
      "  X, y = self._initialize(X, y)\n"
     ]
    },
    {
     "name": "stdout",
     "output_type": "stream",
     "text": [
      "201/201 [==============================] - 3s 3ms/step - loss: 0.5465 - accuracy: 0.7206\n",
      "51/51 [==============================] - 0s 2ms/step\n"
     ]
    },
    {
     "name": "stderr",
     "output_type": "stream",
     "text": [
      "C:\\Users\\786\\AppData\\Roaming\\Python\\Python311\\site-packages\\scikeras\\wrappers.py:915: UserWarning: ``build_fn`` will be renamed to ``model`` in a future release, at which point use of ``build_fn`` will raise an Error instead.\n",
      "  X, y = self._initialize(X, y)\n"
     ]
    },
    {
     "name": "stdout",
     "output_type": "stream",
     "text": [
      "201/201 [==============================] - 3s 2ms/step - loss: 0.5522 - accuracy: 0.7225\n",
      "51/51 [==============================] - 0s 2ms/step\n"
     ]
    },
    {
     "name": "stderr",
     "output_type": "stream",
     "text": [
      "C:\\Users\\786\\AppData\\Roaming\\Python\\Python311\\site-packages\\scikeras\\wrappers.py:915: UserWarning: ``build_fn`` will be renamed to ``model`` in a future release, at which point use of ``build_fn`` will raise an Error instead.\n",
      "  X, y = self._initialize(X, y)\n"
     ]
    },
    {
     "name": "stdout",
     "output_type": "stream",
     "text": [
      "201/201 [==============================] - 3s 4ms/step - loss: 0.5450 - accuracy: 0.7331\n",
      "51/51 [==============================] - 0s 2ms/step\n"
     ]
    },
    {
     "name": "stderr",
     "output_type": "stream",
     "text": [
      "C:\\Users\\786\\AppData\\Roaming\\Python\\Python311\\site-packages\\scikeras\\wrappers.py:915: UserWarning: ``build_fn`` will be renamed to ``model`` in a future release, at which point use of ``build_fn`` will raise an Error instead.\n",
      "  X, y = self._initialize(X, y)\n"
     ]
    },
    {
     "name": "stdout",
     "output_type": "stream",
     "text": [
      "201/201 [==============================] - 1s 2ms/step - loss: 0.5356 - accuracy: 0.7339\n",
      "51/51 [==============================] - 0s 2ms/step\n"
     ]
    },
    {
     "name": "stderr",
     "output_type": "stream",
     "text": [
      "C:\\Users\\786\\AppData\\Roaming\\Python\\Python311\\site-packages\\scikeras\\wrappers.py:915: UserWarning: ``build_fn`` will be renamed to ``model`` in a future release, at which point use of ``build_fn`` will raise an Error instead.\n",
      "  X, y = self._initialize(X, y)\n"
     ]
    },
    {
     "name": "stdout",
     "output_type": "stream",
     "text": [
      "201/201 [==============================] - 3s 9ms/step - loss: 0.5516 - accuracy: 0.7230\n",
      "51/51 [==============================] - 0s 3ms/step\n"
     ]
    },
    {
     "name": "stderr",
     "output_type": "stream",
     "text": [
      "C:\\Users\\786\\AppData\\Roaming\\Python\\Python311\\site-packages\\scikeras\\wrappers.py:915: UserWarning: ``build_fn`` will be renamed to ``model`` in a future release, at which point use of ``build_fn`` will raise an Error instead.\n",
      "  X, y = self._initialize(X, y)\n"
     ]
    },
    {
     "name": "stdout",
     "output_type": "stream",
     "text": [
      "201/201 [==============================] - 2s 3ms/step - loss: 0.5198 - accuracy: 0.7481\n",
      "51/51 [==============================] - 0s 2ms/step\n"
     ]
    },
    {
     "name": "stderr",
     "output_type": "stream",
     "text": [
      "C:\\Users\\786\\AppData\\Roaming\\Python\\Python311\\site-packages\\scikeras\\wrappers.py:915: UserWarning: ``build_fn`` will be renamed to ``model`` in a future release, at which point use of ``build_fn`` will raise an Error instead.\n",
      "  X, y = self._initialize(X, y)\n"
     ]
    },
    {
     "name": "stdout",
     "output_type": "stream",
     "text": [
      "201/201 [==============================] - 2s 2ms/step - loss: 0.5177 - accuracy: 0.7462\n",
      "51/51 [==============================] - 0s 1ms/step\n"
     ]
    },
    {
     "name": "stderr",
     "output_type": "stream",
     "text": [
      "C:\\Users\\786\\AppData\\Roaming\\Python\\Python311\\site-packages\\scikeras\\wrappers.py:915: UserWarning: ``build_fn`` will be renamed to ``model`` in a future release, at which point use of ``build_fn`` will raise an Error instead.\n",
      "  X, y = self._initialize(X, y)\n"
     ]
    },
    {
     "name": "stdout",
     "output_type": "stream",
     "text": [
      "201/201 [==============================] - 2s 2ms/step - loss: 0.5158 - accuracy: 0.7490\n",
      "51/51 [==============================] - 0s 2ms/step\n"
     ]
    },
    {
     "name": "stderr",
     "output_type": "stream",
     "text": [
      "C:\\Users\\786\\AppData\\Roaming\\Python\\Python311\\site-packages\\scikeras\\wrappers.py:915: UserWarning: ``build_fn`` will be renamed to ``model`` in a future release, at which point use of ``build_fn`` will raise an Error instead.\n",
      "  X, y = self._initialize(X, y)\n"
     ]
    },
    {
     "name": "stdout",
     "output_type": "stream",
     "text": [
      "201/201 [==============================] - 2s 2ms/step - loss: 0.5198 - accuracy: 0.7486\n",
      "51/51 [==============================] - 0s 2ms/step\n"
     ]
    },
    {
     "name": "stderr",
     "output_type": "stream",
     "text": [
      "C:\\Users\\786\\AppData\\Roaming\\Python\\Python311\\site-packages\\scikeras\\wrappers.py:915: UserWarning: ``build_fn`` will be renamed to ``model`` in a future release, at which point use of ``build_fn`` will raise an Error instead.\n",
      "  X, y = self._initialize(X, y)\n"
     ]
    },
    {
     "name": "stdout",
     "output_type": "stream",
     "text": [
      "201/201 [==============================] - 3s 3ms/step - loss: 0.5144 - accuracy: 0.7505\n",
      "51/51 [==============================] - 0s 1ms/step\n"
     ]
    },
    {
     "name": "stderr",
     "output_type": "stream",
     "text": [
      "C:\\Users\\786\\AppData\\Roaming\\Python\\Python311\\site-packages\\scikeras\\wrappers.py:915: UserWarning: ``build_fn`` will be renamed to ``model`` in a future release, at which point use of ``build_fn`` will raise an Error instead.\n",
      "  X, y = self._initialize(X, y)\n"
     ]
    },
    {
     "name": "stdout",
     "output_type": "stream",
     "text": [
      "201/201 [==============================] - 2s 3ms/step - loss: 0.6085 - accuracy: 0.6629\n",
      "51/51 [==============================] - 0s 2ms/step\n"
     ]
    },
    {
     "name": "stderr",
     "output_type": "stream",
     "text": [
      "C:\\Users\\786\\AppData\\Roaming\\Python\\Python311\\site-packages\\scikeras\\wrappers.py:915: UserWarning: ``build_fn`` will be renamed to ``model`` in a future release, at which point use of ``build_fn`` will raise an Error instead.\n",
      "  X, y = self._initialize(X, y)\n"
     ]
    },
    {
     "name": "stdout",
     "output_type": "stream",
     "text": [
      "201/201 [==============================] - 3s 3ms/step - loss: 0.6350 - accuracy: 0.6323\n",
      "51/51 [==============================] - 0s 2ms/step\n"
     ]
    },
    {
     "name": "stderr",
     "output_type": "stream",
     "text": [
      "C:\\Users\\786\\AppData\\Roaming\\Python\\Python311\\site-packages\\scikeras\\wrappers.py:915: UserWarning: ``build_fn`` will be renamed to ``model`` in a future release, at which point use of ``build_fn`` will raise an Error instead.\n",
      "  X, y = self._initialize(X, y)\n"
     ]
    },
    {
     "name": "stdout",
     "output_type": "stream",
     "text": [
      "201/201 [==============================] - 2s 3ms/step - loss: 0.5747 - accuracy: 0.7046\n",
      "51/51 [==============================] - 0s 2ms/step\n"
     ]
    },
    {
     "name": "stderr",
     "output_type": "stream",
     "text": [
      "C:\\Users\\786\\AppData\\Roaming\\Python\\Python311\\site-packages\\scikeras\\wrappers.py:915: UserWarning: ``build_fn`` will be renamed to ``model`` in a future release, at which point use of ``build_fn`` will raise an Error instead.\n",
      "  X, y = self._initialize(X, y)\n"
     ]
    },
    {
     "name": "stdout",
     "output_type": "stream",
     "text": [
      "201/201 [==============================] - 3s 3ms/step - loss: 0.6234 - accuracy: 0.6491\n",
      "51/51 [==============================] - 0s 2ms/step\n"
     ]
    },
    {
     "name": "stderr",
     "output_type": "stream",
     "text": [
      "C:\\Users\\786\\AppData\\Roaming\\Python\\Python311\\site-packages\\scikeras\\wrappers.py:915: UserWarning: ``build_fn`` will be renamed to ``model`` in a future release, at which point use of ``build_fn`` will raise an Error instead.\n",
      "  X, y = self._initialize(X, y)\n"
     ]
    },
    {
     "name": "stdout",
     "output_type": "stream",
     "text": [
      "201/201 [==============================] - 2s 2ms/step - loss: 0.6127 - accuracy: 0.6648\n",
      "51/51 [==============================] - 0s 1ms/step\n"
     ]
    },
    {
     "name": "stderr",
     "output_type": "stream",
     "text": [
      "C:\\Users\\786\\AppData\\Roaming\\Python\\Python311\\site-packages\\scikeras\\wrappers.py:915: UserWarning: ``build_fn`` will be renamed to ``model`` in a future release, at which point use of ``build_fn`` will raise an Error instead.\n",
      "  X, y = self._initialize(X, y)\n"
     ]
    },
    {
     "name": "stdout",
     "output_type": "stream",
     "text": [
      "201/201 [==============================] - 2s 2ms/step - loss: 0.5516 - accuracy: 0.7225\n",
      "51/51 [==============================] - 0s 1ms/step\n"
     ]
    },
    {
     "name": "stderr",
     "output_type": "stream",
     "text": [
      "C:\\Users\\786\\AppData\\Roaming\\Python\\Python311\\site-packages\\scikeras\\wrappers.py:915: UserWarning: ``build_fn`` will be renamed to ``model`` in a future release, at which point use of ``build_fn`` will raise an Error instead.\n",
      "  X, y = self._initialize(X, y)\n"
     ]
    },
    {
     "name": "stdout",
     "output_type": "stream",
     "text": [
      "201/201 [==============================] - 2s 2ms/step - loss: 0.5481 - accuracy: 0.7228\n",
      "51/51 [==============================] - 0s 1ms/step\n"
     ]
    },
    {
     "name": "stderr",
     "output_type": "stream",
     "text": [
      "C:\\Users\\786\\AppData\\Roaming\\Python\\Python311\\site-packages\\scikeras\\wrappers.py:915: UserWarning: ``build_fn`` will be renamed to ``model`` in a future release, at which point use of ``build_fn`` will raise an Error instead.\n",
      "  X, y = self._initialize(X, y)\n"
     ]
    },
    {
     "name": "stdout",
     "output_type": "stream",
     "text": [
      "201/201 [==============================] - 3s 4ms/step - loss: 0.5505 - accuracy: 0.7252\n",
      "51/51 [==============================] - 0s 2ms/step\n"
     ]
    },
    {
     "name": "stderr",
     "output_type": "stream",
     "text": [
      "C:\\Users\\786\\AppData\\Roaming\\Python\\Python311\\site-packages\\scikeras\\wrappers.py:915: UserWarning: ``build_fn`` will be renamed to ``model`` in a future release, at which point use of ``build_fn`` will raise an Error instead.\n",
      "  X, y = self._initialize(X, y)\n"
     ]
    },
    {
     "name": "stdout",
     "output_type": "stream",
     "text": [
      "201/201 [==============================] - 3s 4ms/step - loss: 0.5474 - accuracy: 0.7241\n",
      "51/51 [==============================] - 0s 2ms/step\n"
     ]
    },
    {
     "name": "stderr",
     "output_type": "stream",
     "text": [
      "C:\\Users\\786\\AppData\\Roaming\\Python\\Python311\\site-packages\\scikeras\\wrappers.py:915: UserWarning: ``build_fn`` will be renamed to ``model`` in a future release, at which point use of ``build_fn`` will raise an Error instead.\n",
      "  X, y = self._initialize(X, y)\n"
     ]
    },
    {
     "name": "stdout",
     "output_type": "stream",
     "text": [
      "201/201 [==============================] - 3s 3ms/step - loss: 0.5532 - accuracy: 0.7292\n",
      "51/51 [==============================] - 0s 2ms/step\n"
     ]
    },
    {
     "name": "stderr",
     "output_type": "stream",
     "text": [
      "C:\\Users\\786\\AppData\\Roaming\\Python\\Python311\\site-packages\\scikeras\\wrappers.py:915: UserWarning: ``build_fn`` will be renamed to ``model`` in a future release, at which point use of ``build_fn`` will raise an Error instead.\n",
      "  X, y = self._initialize(X, y)\n"
     ]
    },
    {
     "name": "stdout",
     "output_type": "stream",
     "text": [
      "201/201 [==============================] - 2s 3ms/step - loss: 0.5227 - accuracy: 0.7413\n",
      "51/51 [==============================] - 0s 2ms/step\n"
     ]
    },
    {
     "name": "stderr",
     "output_type": "stream",
     "text": [
      "C:\\Users\\786\\AppData\\Roaming\\Python\\Python311\\site-packages\\scikeras\\wrappers.py:915: UserWarning: ``build_fn`` will be renamed to ``model`` in a future release, at which point use of ``build_fn`` will raise an Error instead.\n",
      "  X, y = self._initialize(X, y)\n"
     ]
    },
    {
     "name": "stdout",
     "output_type": "stream",
     "text": [
      "201/201 [==============================] - 3s 4ms/step - loss: 0.5194 - accuracy: 0.7539\n",
      "51/51 [==============================] - 0s 2ms/step\n"
     ]
    },
    {
     "name": "stderr",
     "output_type": "stream",
     "text": [
      "C:\\Users\\786\\AppData\\Roaming\\Python\\Python311\\site-packages\\scikeras\\wrappers.py:915: UserWarning: ``build_fn`` will be renamed to ``model`` in a future release, at which point use of ``build_fn`` will raise an Error instead.\n",
      "  X, y = self._initialize(X, y)\n"
     ]
    },
    {
     "name": "stdout",
     "output_type": "stream",
     "text": [
      "201/201 [==============================] - 3s 4ms/step - loss: 0.5108 - accuracy: 0.7545\n",
      "51/51 [==============================] - 0s 1ms/step\n"
     ]
    },
    {
     "name": "stderr",
     "output_type": "stream",
     "text": [
      "C:\\Users\\786\\AppData\\Roaming\\Python\\Python311\\site-packages\\scikeras\\wrappers.py:915: UserWarning: ``build_fn`` will be renamed to ``model`` in a future release, at which point use of ``build_fn`` will raise an Error instead.\n",
      "  X, y = self._initialize(X, y)\n"
     ]
    },
    {
     "name": "stdout",
     "output_type": "stream",
     "text": [
      "201/201 [==============================] - 2s 3ms/step - loss: 0.5217 - accuracy: 0.7427\n",
      "51/51 [==============================] - 0s 1ms/step\n"
     ]
    },
    {
     "name": "stderr",
     "output_type": "stream",
     "text": [
      "C:\\Users\\786\\AppData\\Roaming\\Python\\Python311\\site-packages\\scikeras\\wrappers.py:915: UserWarning: ``build_fn`` will be renamed to ``model`` in a future release, at which point use of ``build_fn`` will raise an Error instead.\n",
      "  X, y = self._initialize(X, y)\n"
     ]
    },
    {
     "name": "stdout",
     "output_type": "stream",
     "text": [
      "201/201 [==============================] - 2s 3ms/step - loss: 0.5217 - accuracy: 0.7471\n",
      "51/51 [==============================] - 0s 2ms/step\n"
     ]
    },
    {
     "name": "stderr",
     "output_type": "stream",
     "text": [
      "C:\\Users\\786\\AppData\\Roaming\\Python\\Python311\\site-packages\\scikeras\\wrappers.py:915: UserWarning: ``build_fn`` will be renamed to ``model`` in a future release, at which point use of ``build_fn`` will raise an Error instead.\n",
      "  X, y = self._initialize(X, y)\n"
     ]
    },
    {
     "name": "stdout",
     "output_type": "stream",
     "text": [
      "201/201 [==============================] - 2s 4ms/step - loss: 0.6331 - accuracy: 0.6148\n",
      "51/51 [==============================] - 0s 2ms/step\n"
     ]
    },
    {
     "name": "stderr",
     "output_type": "stream",
     "text": [
      "C:\\Users\\786\\AppData\\Roaming\\Python\\Python311\\site-packages\\scikeras\\wrappers.py:915: UserWarning: ``build_fn`` will be renamed to ``model`` in a future release, at which point use of ``build_fn`` will raise an Error instead.\n",
      "  X, y = self._initialize(X, y)\n"
     ]
    },
    {
     "name": "stdout",
     "output_type": "stream",
     "text": [
      "201/201 [==============================] - 3s 2ms/step - loss: 0.6077 - accuracy: 0.6531\n",
      "51/51 [==============================] - 0s 2ms/step\n"
     ]
    },
    {
     "name": "stderr",
     "output_type": "stream",
     "text": [
      "C:\\Users\\786\\AppData\\Roaming\\Python\\Python311\\site-packages\\scikeras\\wrappers.py:915: UserWarning: ``build_fn`` will be renamed to ``model`` in a future release, at which point use of ``build_fn`` will raise an Error instead.\n",
      "  X, y = self._initialize(X, y)\n"
     ]
    },
    {
     "name": "stdout",
     "output_type": "stream",
     "text": [
      "201/201 [==============================] - 3s 2ms/step - loss: 0.6247 - accuracy: 0.6320\n",
      "51/51 [==============================] - 0s 1ms/step\n"
     ]
    },
    {
     "name": "stderr",
     "output_type": "stream",
     "text": [
      "C:\\Users\\786\\AppData\\Roaming\\Python\\Python311\\site-packages\\scikeras\\wrappers.py:915: UserWarning: ``build_fn`` will be renamed to ``model`` in a future release, at which point use of ``build_fn`` will raise an Error instead.\n",
      "  X, y = self._initialize(X, y)\n"
     ]
    },
    {
     "name": "stdout",
     "output_type": "stream",
     "text": [
      "201/201 [==============================] - 3s 2ms/step - loss: 0.6253 - accuracy: 0.6264\n",
      "51/51 [==============================] - 0s 1ms/step\n"
     ]
    },
    {
     "name": "stderr",
     "output_type": "stream",
     "text": [
      "C:\\Users\\786\\AppData\\Roaming\\Python\\Python311\\site-packages\\scikeras\\wrappers.py:915: UserWarning: ``build_fn`` will be renamed to ``model`` in a future release, at which point use of ``build_fn`` will raise an Error instead.\n",
      "  X, y = self._initialize(X, y)\n"
     ]
    },
    {
     "name": "stdout",
     "output_type": "stream",
     "text": [
      "201/201 [==============================] - 2s 3ms/step - loss: 0.6476 - accuracy: 0.6166\n",
      "51/51 [==============================] - 0s 2ms/step\n"
     ]
    },
    {
     "name": "stderr",
     "output_type": "stream",
     "text": [
      "C:\\Users\\786\\AppData\\Roaming\\Python\\Python311\\site-packages\\scikeras\\wrappers.py:915: UserWarning: ``build_fn`` will be renamed to ``model`` in a future release, at which point use of ``build_fn`` will raise an Error instead.\n",
      "  X, y = self._initialize(X, y)\n"
     ]
    },
    {
     "name": "stdout",
     "output_type": "stream",
     "text": [
      "201/201 [==============================] - 3s 3ms/step - loss: 0.5875 - accuracy: 0.6952\n",
      "51/51 [==============================] - 0s 2ms/step\n"
     ]
    },
    {
     "name": "stderr",
     "output_type": "stream",
     "text": [
      "C:\\Users\\786\\AppData\\Roaming\\Python\\Python311\\site-packages\\scikeras\\wrappers.py:915: UserWarning: ``build_fn`` will be renamed to ``model`` in a future release, at which point use of ``build_fn`` will raise an Error instead.\n",
      "  X, y = self._initialize(X, y)\n"
     ]
    },
    {
     "name": "stdout",
     "output_type": "stream",
     "text": [
      "201/201 [==============================] - 4s 4ms/step - loss: 0.5784 - accuracy: 0.7052\n",
      "51/51 [==============================] - 0s 1ms/step\n"
     ]
    },
    {
     "name": "stderr",
     "output_type": "stream",
     "text": [
      "C:\\Users\\786\\AppData\\Roaming\\Python\\Python311\\site-packages\\scikeras\\wrappers.py:915: UserWarning: ``build_fn`` will be renamed to ``model`` in a future release, at which point use of ``build_fn`` will raise an Error instead.\n",
      "  X, y = self._initialize(X, y)\n"
     ]
    },
    {
     "name": "stdout",
     "output_type": "stream",
     "text": [
      "201/201 [==============================] - 3s 3ms/step - loss: 0.5878 - accuracy: 0.6897\n",
      "51/51 [==============================] - 0s 2ms/step\n"
     ]
    },
    {
     "name": "stderr",
     "output_type": "stream",
     "text": [
      "C:\\Users\\786\\AppData\\Roaming\\Python\\Python311\\site-packages\\scikeras\\wrappers.py:915: UserWarning: ``build_fn`` will be renamed to ``model`` in a future release, at which point use of ``build_fn`` will raise an Error instead.\n",
      "  X, y = self._initialize(X, y)\n"
     ]
    },
    {
     "name": "stdout",
     "output_type": "stream",
     "text": [
      "201/201 [==============================] - 3s 4ms/step - loss: 0.5720 - accuracy: 0.6982\n",
      "51/51 [==============================] - 0s 2ms/step\n"
     ]
    },
    {
     "name": "stderr",
     "output_type": "stream",
     "text": [
      "C:\\Users\\786\\AppData\\Roaming\\Python\\Python311\\site-packages\\scikeras\\wrappers.py:915: UserWarning: ``build_fn`` will be renamed to ``model`` in a future release, at which point use of ``build_fn`` will raise an Error instead.\n",
      "  X, y = self._initialize(X, y)\n"
     ]
    },
    {
     "name": "stdout",
     "output_type": "stream",
     "text": [
      "201/201 [==============================] - 2s 4ms/step - loss: 0.6064 - accuracy: 0.6545\n",
      "51/51 [==============================] - 0s 2ms/step\n"
     ]
    },
    {
     "name": "stderr",
     "output_type": "stream",
     "text": [
      "C:\\Users\\786\\AppData\\Roaming\\Python\\Python311\\site-packages\\scikeras\\wrappers.py:915: UserWarning: ``build_fn`` will be renamed to ``model`` in a future release, at which point use of ``build_fn`` will raise an Error instead.\n",
      "  X, y = self._initialize(X, y)\n"
     ]
    },
    {
     "name": "stdout",
     "output_type": "stream",
     "text": [
      "201/201 [==============================] - 3s 4ms/step - loss: 0.5434 - accuracy: 0.7287\n",
      "51/51 [==============================] - 0s 2ms/step\n"
     ]
    },
    {
     "name": "stderr",
     "output_type": "stream",
     "text": [
      "C:\\Users\\786\\AppData\\Roaming\\Python\\Python311\\site-packages\\scikeras\\wrappers.py:915: UserWarning: ``build_fn`` will be renamed to ``model`` in a future release, at which point use of ``build_fn`` will raise an Error instead.\n",
      "  X, y = self._initialize(X, y)\n"
     ]
    },
    {
     "name": "stdout",
     "output_type": "stream",
     "text": [
      "201/201 [==============================] - 2s 4ms/step - loss: 0.5453 - accuracy: 0.7253\n",
      "51/51 [==============================] - 0s 2ms/step\n"
     ]
    },
    {
     "name": "stderr",
     "output_type": "stream",
     "text": [
      "C:\\Users\\786\\AppData\\Roaming\\Python\\Python311\\site-packages\\scikeras\\wrappers.py:915: UserWarning: ``build_fn`` will be renamed to ``model`` in a future release, at which point use of ``build_fn`` will raise an Error instead.\n",
      "  X, y = self._initialize(X, y)\n"
     ]
    },
    {
     "name": "stdout",
     "output_type": "stream",
     "text": [
      "201/201 [==============================] - 3s 3ms/step - loss: 0.5370 - accuracy: 0.7396\n",
      "51/51 [==============================] - 0s 2ms/step\n"
     ]
    },
    {
     "name": "stderr",
     "output_type": "stream",
     "text": [
      "C:\\Users\\786\\AppData\\Roaming\\Python\\Python311\\site-packages\\scikeras\\wrappers.py:915: UserWarning: ``build_fn`` will be renamed to ``model`` in a future release, at which point use of ``build_fn`` will raise an Error instead.\n",
      "  X, y = self._initialize(X, y)\n"
     ]
    },
    {
     "name": "stdout",
     "output_type": "stream",
     "text": [
      "201/201 [==============================] - 3s 4ms/step - loss: 0.5434 - accuracy: 0.7303\n",
      "51/51 [==============================] - 0s 2ms/step\n"
     ]
    },
    {
     "name": "stderr",
     "output_type": "stream",
     "text": [
      "C:\\Users\\786\\AppData\\Roaming\\Python\\Python311\\site-packages\\scikeras\\wrappers.py:915: UserWarning: ``build_fn`` will be renamed to ``model`` in a future release, at which point use of ``build_fn`` will raise an Error instead.\n",
      "  X, y = self._initialize(X, y)\n"
     ]
    },
    {
     "name": "stdout",
     "output_type": "stream",
     "text": [
      "201/201 [==============================] - 3s 3ms/step - loss: 0.5566 - accuracy: 0.7308\n",
      "51/51 [==============================] - 0s 2ms/step\n"
     ]
    },
    {
     "name": "stderr",
     "output_type": "stream",
     "text": [
      "C:\\Users\\786\\AppData\\Roaming\\Python\\Python311\\site-packages\\scikeras\\wrappers.py:915: UserWarning: ``build_fn`` will be renamed to ``model`` in a future release, at which point use of ``build_fn`` will raise an Error instead.\n",
      "  X, y = self._initialize(X, y)\n"
     ]
    },
    {
     "name": "stdout",
     "output_type": "stream",
     "text": [
      "252/252 [==============================] - 2s 3ms/step - loss: 0.5161 - accuracy: 0.7461\n"
     ]
    }
   ],
   "source": [
    "import tensorflow as tf\n",
    "from scikeras.wrappers import KerasClassifier\n",
    "from sklearn.model_selection import RandomizedSearchCV\n",
    "\n",
    "\n",
    "# Define hyperparameters grid\n",
    "layers_grid = [1, 2, 3]\n",
    "neurons_grid = [ 32, 64, 128]\n",
    "\n",
    "hyperparameters = {'layers': layers_grid, 'neurons': neurons_grid}\n",
    "\n",
    "# Perform hyperparameter tuning\n",
    "model = KerasClassifier(build_fn=create_model,layers=0, neurons=0 )\n",
    "grid_search = RandomizedSearchCV(estimator=model, param_distributions=hyperparameters, cv=5)\n",
    "grid_search.fit(X_train, y_train)\n",
    "\n",
    "\n",
    "# Get best hyperparameters\n",
    "best_params = grid_search.best_params_\n",
    "best_layers = best_params['layers']\n",
    "best_neurons = best_params['neurons']"
   ]
  },
  {
   "cell_type": "code",
   "execution_count": 7,
   "metadata": {},
   "outputs": [
    {
     "name": "stdout",
     "output_type": "stream",
     "text": [
      "Model: \"sequential_46\"\n",
      "_________________________________________________________________\n",
      " Layer (type)                Output Shape              Param #   \n",
      "=================================================================\n",
      " dense_138 (Dense)           (None, 128)               6016      \n",
      "                                                                 \n",
      " dense_139 (Dense)           (None, 128)               16512     \n",
      "                                                                 \n",
      " dropout_92 (Dropout)        (None, 128)               0         \n",
      "                                                                 \n",
      " dropout_93 (Dropout)        (None, 128)               0         \n",
      "                                                                 \n",
      " dense_140 (Dense)           (None, 1)                 129       \n",
      "                                                                 \n",
      "=================================================================\n",
      "Total params: 22657 (88.50 KB)\n",
      "Trainable params: 22657 (88.50 KB)\n",
      "Non-trainable params: 0 (0.00 Byte)\n",
      "_________________________________________________________________\n"
     ]
    }
   ],
   "source": [
    "# Create the best model\n",
    "best_nn_model = create_model(best_layers, best_neurons)\n",
    "best_nn_model.summary()"
   ]
  },
  {
   "cell_type": "code",
   "execution_count": 8,
   "metadata": {},
   "outputs": [
    {
     "data": {
      "text/plain": [
       "{0: 1.0, 1: 1.0}"
      ]
     },
     "execution_count": 8,
     "metadata": {},
     "output_type": "execute_result"
    }
   ],
   "source": [
    "from sklearn.utils.class_weight import compute_class_weight\n",
    "\n",
    "class_weights = compute_class_weight(\n",
    "                                        class_weight = \"balanced\",\n",
    "                                        classes = np.unique(y),\n",
    "                                        y = y                                                    \n",
    "                                    )\n",
    "class_weights = dict(zip(np.unique(y), class_weights))\n",
    "class_weights"
   ]
  },
  {
   "cell_type": "code",
   "execution_count": 9,
   "metadata": {},
   "outputs": [
    {
     "name": "stdout",
     "output_type": "stream",
     "text": [
      "Epoch 1/50\n",
      "252/252 [==============================] - 4s 6ms/step - loss: 0.5094 - accuracy: 0.7469 - val_loss: 0.4449 - val_accuracy: 0.7816\n",
      "Epoch 2/50\n",
      "252/252 [==============================] - 1s 5ms/step - loss: 0.4691 - accuracy: 0.7811 - val_loss: 0.4363 - val_accuracy: 0.7891\n",
      "Epoch 3/50\n",
      "252/252 [==============================] - 1s 4ms/step - loss: 0.4540 - accuracy: 0.7876 - val_loss: 0.4332 - val_accuracy: 0.7836\n",
      "Epoch 4/50\n",
      "252/252 [==============================] - 1s 4ms/step - loss: 0.4467 - accuracy: 0.7965 - val_loss: 0.4281 - val_accuracy: 0.7856\n",
      "Epoch 5/50\n",
      "252/252 [==============================] - 1s 4ms/step - loss: 0.4434 - accuracy: 0.7921 - val_loss: 0.4322 - val_accuracy: 0.7841\n",
      "Epoch 6/50\n",
      "252/252 [==============================] - 1s 4ms/step - loss: 0.4385 - accuracy: 0.8054 - val_loss: 0.4335 - val_accuracy: 0.7856\n",
      "Epoch 7/50\n",
      "252/252 [==============================] - 1s 4ms/step - loss: 0.4228 - accuracy: 0.8061 - val_loss: 0.4222 - val_accuracy: 0.7920\n",
      "Epoch 8/50\n",
      "252/252 [==============================] - 1s 4ms/step - loss: 0.4175 - accuracy: 0.8070 - val_loss: 0.4221 - val_accuracy: 0.7881\n",
      "Epoch 9/50\n",
      "252/252 [==============================] - 1s 3ms/step - loss: 0.4160 - accuracy: 0.8132 - val_loss: 0.4236 - val_accuracy: 0.7930\n",
      "Epoch 10/50\n",
      "252/252 [==============================] - 1s 4ms/step - loss: 0.4066 - accuracy: 0.8156 - val_loss: 0.4197 - val_accuracy: 0.7955\n",
      "Epoch 11/50\n",
      "252/252 [==============================] - 1s 4ms/step - loss: 0.4017 - accuracy: 0.8208 - val_loss: 0.4167 - val_accuracy: 0.8030\n",
      "Epoch 12/50\n",
      "252/252 [==============================] - 1s 4ms/step - loss: 0.3947 - accuracy: 0.8269 - val_loss: 0.4111 - val_accuracy: 0.8020\n",
      "Epoch 13/50\n",
      "252/252 [==============================] - 1s 6ms/step - loss: 0.3819 - accuracy: 0.8314 - val_loss: 0.4167 - val_accuracy: 0.8045\n",
      "Epoch 14/50\n",
      "252/252 [==============================] - 1s 4ms/step - loss: 0.3795 - accuracy: 0.8311 - val_loss: 0.4134 - val_accuracy: 0.8050\n",
      "Epoch 15/50\n",
      "252/252 [==============================] - 1s 5ms/step - loss: 0.3697 - accuracy: 0.8359 - val_loss: 0.4131 - val_accuracy: 0.8085\n",
      "Epoch 16/50\n",
      "252/252 [==============================] - 1s 4ms/step - loss: 0.3653 - accuracy: 0.8386 - val_loss: 0.4075 - val_accuracy: 0.8055\n",
      "Epoch 17/50\n",
      "252/252 [==============================] - 1s 4ms/step - loss: 0.3597 - accuracy: 0.8421 - val_loss: 0.4043 - val_accuracy: 0.8149\n",
      "Epoch 18/50\n",
      "252/252 [==============================] - 1s 4ms/step - loss: 0.3503 - accuracy: 0.8452 - val_loss: 0.4116 - val_accuracy: 0.8040\n",
      "Epoch 19/50\n",
      "252/252 [==============================] - 1s 4ms/step - loss: 0.3473 - accuracy: 0.8477 - val_loss: 0.4127 - val_accuracy: 0.8124\n",
      "Epoch 20/50\n",
      "252/252 [==============================] - 1s 3ms/step - loss: 0.3425 - accuracy: 0.8523 - val_loss: 0.4057 - val_accuracy: 0.8124\n",
      "Epoch 21/50\n",
      "252/252 [==============================] - 1s 3ms/step - loss: 0.3368 - accuracy: 0.8529 - val_loss: 0.4101 - val_accuracy: 0.8189\n",
      "Epoch 22/50\n",
      "252/252 [==============================] - 1s 4ms/step - loss: 0.3349 - accuracy: 0.8542 - val_loss: 0.4001 - val_accuracy: 0.8259\n",
      "Epoch 23/50\n",
      "252/252 [==============================] - 1s 4ms/step - loss: 0.3226 - accuracy: 0.8590 - val_loss: 0.4082 - val_accuracy: 0.8224\n",
      "Epoch 24/50\n",
      "252/252 [==============================] - 1s 4ms/step - loss: 0.3232 - accuracy: 0.8646 - val_loss: 0.4148 - val_accuracy: 0.8254\n",
      "Epoch 25/50\n",
      "252/252 [==============================] - 1s 4ms/step - loss: 0.3116 - accuracy: 0.8666 - val_loss: 0.4179 - val_accuracy: 0.8224\n",
      "Epoch 26/50\n",
      "252/252 [==============================] - 1s 5ms/step - loss: 0.3133 - accuracy: 0.8630 - val_loss: 0.4045 - val_accuracy: 0.8284\n",
      "Epoch 27/50\n",
      "252/252 [==============================] - 1s 4ms/step - loss: 0.3090 - accuracy: 0.8676 - val_loss: 0.4170 - val_accuracy: 0.8249\n",
      "Epoch 28/50\n",
      "252/252 [==============================] - 1s 3ms/step - loss: 0.3025 - accuracy: 0.8701 - val_loss: 0.4281 - val_accuracy: 0.8109\n",
      "Epoch 29/50\n",
      "252/252 [==============================] - 1s 3ms/step - loss: 0.2994 - accuracy: 0.8734 - val_loss: 0.4075 - val_accuracy: 0.8269\n",
      "Epoch 30/50\n",
      "252/252 [==============================] - 1s 3ms/step - loss: 0.2916 - accuracy: 0.8762 - val_loss: 0.4206 - val_accuracy: 0.8284\n",
      "Epoch 31/50\n",
      "252/252 [==============================] - 1s 4ms/step - loss: 0.2952 - accuracy: 0.8737 - val_loss: 0.4144 - val_accuracy: 0.8269\n",
      "Epoch 32/50\n",
      "252/252 [==============================] - 1s 4ms/step - loss: 0.2856 - accuracy: 0.8789 - val_loss: 0.4225 - val_accuracy: 0.8214\n",
      "Epoch 33/50\n",
      "252/252 [==============================] - 1s 3ms/step - loss: 0.2794 - accuracy: 0.8808 - val_loss: 0.4143 - val_accuracy: 0.8284\n",
      "Epoch 34/50\n",
      "252/252 [==============================] - 1s 3ms/step - loss: 0.2816 - accuracy: 0.8790 - val_loss: 0.4151 - val_accuracy: 0.8289\n",
      "Epoch 35/50\n",
      "252/252 [==============================] - 1s 3ms/step - loss: 0.2744 - accuracy: 0.8825 - val_loss: 0.4120 - val_accuracy: 0.8294\n",
      "Epoch 36/50\n",
      "252/252 [==============================] - 1s 5ms/step - loss: 0.2717 - accuracy: 0.8797 - val_loss: 0.4226 - val_accuracy: 0.8239\n",
      "Epoch 37/50\n",
      "252/252 [==============================] - 1s 5ms/step - loss: 0.2699 - accuracy: 0.8873 - val_loss: 0.4271 - val_accuracy: 0.8338\n",
      "Epoch 38/50\n",
      "252/252 [==============================] - 1s 5ms/step - loss: 0.2682 - accuracy: 0.8858 - val_loss: 0.4093 - val_accuracy: 0.8333\n",
      "Epoch 39/50\n",
      "252/252 [==============================] - 1s 4ms/step - loss: 0.2624 - accuracy: 0.8878 - val_loss: 0.4314 - val_accuracy: 0.8289\n",
      "Epoch 40/50\n",
      "252/252 [==============================] - 1s 3ms/step - loss: 0.2633 - accuracy: 0.8905 - val_loss: 0.4221 - val_accuracy: 0.8333\n",
      "Epoch 41/50\n",
      "252/252 [==============================] - 1s 4ms/step - loss: 0.2509 - accuracy: 0.8942 - val_loss: 0.4331 - val_accuracy: 0.8299\n",
      "Epoch 42/50\n",
      "252/252 [==============================] - 1s 3ms/step - loss: 0.2560 - accuracy: 0.8907 - val_loss: 0.4280 - val_accuracy: 0.8343\n",
      "Epoch 43/50\n",
      "252/252 [==============================] - 1s 4ms/step - loss: 0.2511 - accuracy: 0.8909 - val_loss: 0.4494 - val_accuracy: 0.8318\n",
      "Epoch 44/50\n",
      "252/252 [==============================] - 1s 4ms/step - loss: 0.2483 - accuracy: 0.8953 - val_loss: 0.4343 - val_accuracy: 0.8413\n",
      "Epoch 45/50\n",
      "252/252 [==============================] - 1s 4ms/step - loss: 0.2474 - accuracy: 0.8961 - val_loss: 0.4414 - val_accuracy: 0.8264\n",
      "Epoch 46/50\n",
      "252/252 [==============================] - 1s 4ms/step - loss: 0.2485 - accuracy: 0.8952 - val_loss: 0.4385 - val_accuracy: 0.8299\n",
      "Epoch 47/50\n",
      "252/252 [==============================] - 1s 5ms/step - loss: 0.2453 - accuracy: 0.8976 - val_loss: 0.4483 - val_accuracy: 0.8363\n",
      "Epoch 48/50\n",
      "252/252 [==============================] - 1s 4ms/step - loss: 0.2473 - accuracy: 0.8952 - val_loss: 0.4397 - val_accuracy: 0.8403\n",
      "Epoch 49/50\n",
      "252/252 [==============================] - 1s 4ms/step - loss: 0.2386 - accuracy: 0.8966 - val_loss: 0.4337 - val_accuracy: 0.8403\n",
      "Epoch 50/50\n",
      "252/252 [==============================] - 1s 5ms/step - loss: 0.2362 - accuracy: 0.9011 - val_loss: 0.4518 - val_accuracy: 0.8284\n"
     ]
    }
   ],
   "source": [
    "tf.random.set_seed(1234)\n",
    "history = best_nn_model.fit(X_train, y_train, epochs=50,class_weight=class_weights, validation_data=(X_test,y_test))"
   ]
  },
  {
   "cell_type": "code",
   "execution_count": 10,
   "metadata": {},
   "outputs": [
    {
     "name": "stdout",
     "output_type": "stream",
     "text": [
      "63/63 [==============================] - 0s 3ms/step - loss: 0.4518 - accuracy: 0.8284\n",
      "Test accuracy: 0.8283582329750061\n",
      "Test loss: 0.45176002383232117\n"
     ]
    }
   ],
   "source": [
    "# Evaluate the best model (replace with your evaluation metrics)\n",
    "test_loss, test_acc = best_nn_model.evaluate(X_test, y_test)\n",
    "print('Test accuracy:', test_acc)\n",
    "print('Test loss:',test_loss )"
   ]
  },
  {
   "cell_type": "code",
   "execution_count": 11,
   "metadata": {},
   "outputs": [
    {
     "data": {
      "image/png": "[encoded data removed]",
      "text/plain": [
       "<Figure size 1200x600 with 1 Axes>"
      ]
     },
     "metadata": {},
     "output_type": "display_data"
    },
    {
     "data": {
      "image/png": "[encoded data removed]",
      "text/plain": [
       "<Figure size 1200x600 with 1 Axes>"
      ]
     },
     "metadata": {},
     "output_type": "display_data"
    }
   ],
   "source": [
    "# Plot loss over epochs\n",
    "plt.figure(figsize=(12, 6))\n",
    "plt.plot(history.history['loss'], label='Training Loss')\n",
    "plt.plot(history.history['val_loss'], label='Validation Loss')\n",
    "plt.title('Training and Validation Loss')\n",
    "plt.xlabel('Epochs')\n",
    "plt.ylabel('Loss')\n",
    "plt.legend()\n",
    "plt.show()\n",
    "\n",
    "# Plot accuracy over epochs\n",
    "plt.figure(figsize=(12, 6))\n",
    "plt.plot(history.history['accuracy'], label='Training Accuracy')\n",
    "plt.plot(history.history['val_accuracy'], label='Validation Accuracy')\n",
    "plt.title('Training and Validation Accuracy')\n",
    "plt.xlabel('Epochs')\n",
    "plt.ylabel('Accuracy')\n",
    "plt.legend()\n",
    "plt.show()"
   ]
  },
  {
   "cell_type": "markdown",
   "metadata": {},
   "source": [
    "# Saving Best Model"
   ]
  },
  {
   "cell_type": "code",
   "execution_count": 12,
   "metadata": {},
   "outputs": [],
   "source": [
    "# Save the architecture to JSON\n",
    "model_json = best_nn_model.to_json()\n",
    "with open(\"Trained_Models/best_nn_model.json\", \"w\") as json_file:\n",
    "    json_file.write(model_json)\n",
    "\n",
    "# Save the weights to HDF5\n",
    "best_nn_model.save_weights(\"Trained_Models/best_nn_model.h5\")"
   ]
  }
 ],
 "metadata": {
  "kernelspec": {
   "display_name": "base",
   "language": "python",
   "name": "python3"
  },
  "language_info": {
   "codemirror_mode": {
    "name": "ipython",
    "version": 3
   },
   "file_extension": ".py",
   "mimetype": "text/x-python",
   "name": "python",
   "nbconvert_exporter": "python",
   "pygments_lexer": "ipython3",
   "version": "3.11.3"
  }
 },
 "nbformat": 4,
 "nbformat_minor": 2
}
